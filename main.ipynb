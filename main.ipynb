{
 "cells": [
  {
   "cell_type": "markdown",
   "metadata": {},
   "source": [
    "# DICOM to BIDS converter"
   ]
  },
  {
   "cell_type": "markdown",
   "metadata": {},
   "source": [
    "Welcome to this DICOM to BIDS converter!\n",
    "\n",
    "This converter only handles the following MRI sequences:\n",
    "    - MPRAGE\n",
    "    - FLAIR\n",
    "    - EPI\n",
    "    - Phase\n",
    "    - Diffusion weighted imaging\n",
    "\n",
    "The converter should be used on dicom files coming directly out of the MR machine.\n",
    "\n",
    "#### /!\\ Important /!\\ : Run steps 1 and 2 before running anything else\n",
    "\n",
    "Author: Maxence Wynen -- maxencewynen@gmail.com"
   ]
  },
  {
   "cell_type": "markdown",
   "metadata": {},
   "source": [
    "## 1. Import dependencies"
   ]
  },
  {
   "cell_type": "code",
   "execution_count": 1,
   "metadata": {},
   "outputs": [
    {
     "name": "stdout",
     "output_type": "stream",
     "text": [
      "[INFO] Imports done\n"
     ]
    }
   ],
   "source": [
    "import os,sys,inspect\n",
    "current_dir = os.path.dirname(os.path.abspath(inspect.getfile(inspect.currentframe())))\n",
    "parent_dir = os.path.dirname(current_dir)\n",
    "sys.path.insert(0, parent_dir) \n",
    "from dicom2bids import *\n",
    "from change_orientation import *\n",
    "print(\"[INFO] Imports done\")\n",
    "#\"C:/Users/maxen/OneDrive/Bureau/UCLouvain/Q14/WSBIM2243/project/WSBIM2243/database\"\n",
    "# Path to dcm2niix.exe converter -- Only for windows(Comment for unix/macOS users) \n",
    "dicom2niix_path = \"dcm2niix\" \n",
    "# dicom2niix_path = \"C:/Users/maxen/OneDrive/Bureau/UCLouvain/Q14/WSBIM2243/project/dcm2niix.exe\" # Uncomment for Windows"
   ]
  },
  {
   "cell_type": "markdown",
   "metadata": {},
   "source": [
    "## 2. Set paths"
   ]
  },
  {
   "cell_type": "code",
   "execution_count": 2,
   "metadata": {},
   "outputs": [],
   "source": [
    "# Output BIDS directory. Should previously be created.\n",
    "# Root BIDS directory where subject folders and derivative folder are located\n",
    "bids_dir = \"/media/maggi/Pietro/MS-PRL/MS-PRL_Brussels\"\n"
   ]
  },
  {
   "cell_type": "markdown",
   "metadata": {},
   "source": [
    "## 3. Automatically import a DICOM directory into a BIDS format"
   ]
  },
  {
   "cell_type": "code",
   "execution_count": 4,
   "metadata": {},
   "outputs": [
    {
     "name": "stdout",
     "output_type": "stream",
     "text": [
      "[INFO] Starting to convert ...\n",
      "SUBDIR: /media/maggi/Pietro/MS-PRL/MS-PRL_Brussels/sub-101/ses-02/anat/DICOM\tDIRS: []\n",
      "[INFO] Converted all dicom files to compressed nifti\n",
      "None\n",
      "DICOM series not recognized: _DICOM_AX_1MM_BICOM_20210817103828_502_\n",
      "Path: /media/maggi/Pietro/MS-PRL/MS-PRL_Brussels/sub-101/ses-02/anat/DICOM\n",
      "None\n",
      "DICOM series not recognized: _DICOM_AX_1MM_BICOM_20210817103828_602_\n",
      "Path: /media/maggi/Pietro/MS-PRL/MS-PRL_Brussels/sub-101/ses-02/anat/DICOM\n",
      "None\n",
      "DICOM series not recognized: _DICOM_CORO_1MM_20210817103828_503_\n",
      "Path: /media/maggi/Pietro/MS-PRL/MS-PRL_Brussels/sub-101/ses-02/anat/DICOM\n",
      "None\n",
      "DICOM series not recognized: _DICOM_CORO_1MM_20210817103828_603_\n",
      "Path: /media/maggi/Pietro/MS-PRL/MS-PRL_Brussels/sub-101/ses-02/anat/DICOM\n",
      "['FLAIR']\n",
      "['MPRAGE']\n",
      "None\n",
      "DICOM series not recognized: _DICOM_dADC_epi_20210817103828_302_\n",
      "Path: /media/maggi/Pietro/MS-PRL/MS-PRL_Brussels/sub-101/ses-02/anat/DICOM\n",
      "['DWI']\n",
      "['T1w_Gd']\n",
      "['T2']\n",
      "None\n",
      "DICOM series not recognized: _DICOM_WIP_SWI_NEW_S2_20210817103828_501_\n",
      "Path: /media/maggi/Pietro/MS-PRL/MS-PRL_Brussels/sub-101/ses-02/anat/DICOM\n",
      "None\n",
      "DICOM series not recognized: _DICOM_WIP_SWI_NEW_S2_20210817103828_501__ph\n",
      "Path: /media/maggi/Pietro/MS-PRL/MS-PRL_Brussels/sub-101/ses-02/anat/DICOM\n",
      "None\n",
      "DICOM series not recognized: SWI_NEW S2\n",
      "Path: /media/maggi/Pietro/MS-PRL/MS-PRL_Brussels/sub-101/ses-02/anat/DICOM\n",
      "SERIES: SWI_NEW S2\n",
      "   Filenames: []\n",
      "   RENAME: None\n",
      "\n",
      "\n",
      "[INFO] Done\n"
     ]
    }
   ],
   "source": [
    "# Path to dicom directory\n",
    "directory = \"/media/maggi/Pietro/MS-PRL/MS-PRL_Brussels/sub-101/ses-02/anat/DICOM\"\n",
    "\n",
    "# Convert all DICOMs\n",
    "dicom_series = convert_all_dicoms(directory, dicom2niix_path)\n",
    "\n",
    "# Create directories in the BIDS file structure by giving an incremental id\n",
    "# pat_id, session = make_directories(bids_dir,pat_id=None,session=None)\n",
    "# To specify the patient id:\n",
    "pat_id, session = make_directories(bids_dir,pat_id='101',session='02')\n",
    "# To specify the patient id and session:\n",
    "# pat_id, session = make_directories(bids_dir,pat_id='ID_TO_SPECIFY',session='SESSION_TO_SPECIFY')\n",
    "\n",
    "# Rename and move all (interesting) converted files into the bids directory\n",
    "rename_and_move_nifti(dicom_series, bids_dir, pat_id, session)\n",
    "\n",
    "print(\"[INFO] Done\")"
   ]
  },
  {
   "cell_type": "code",
   "execution_count": 5,
   "metadata": {},
   "outputs": [],
   "source": [
    "delete_nii_json_in_dicomdir(dicom_series)"
   ]
  },
  {
   "cell_type": "markdown",
   "metadata": {},
   "source": [
    "## 4.Optional functionalities"
   ]
  },
  {
   "cell_type": "markdown",
   "metadata": {},
   "source": [
    "### 4.1. Delete subject"
   ]
  },
  {
   "cell_type": "code",
   "execution_count": 11,
   "metadata": {},
   "outputs": [],
   "source": [
    "# Remove a patient from the database\n",
    "delete_subject(bids_dir, \"2097\")"
   ]
  },
  {
   "cell_type": "markdown",
   "metadata": {},
   "source": [
    "### 4.2. Delete session"
   ]
  },
  {
   "cell_type": "code",
   "execution_count": 5,
   "metadata": {
    "scrolled": true
   },
   "outputs": [
    {
     "name": "stdout",
     "output_type": "stream",
     "text": [
      "/media/maggi/Elements/BACKUP/DISSECT_MS_DATABASE\n"
     ]
    }
   ],
   "source": [
    "# Remove a particular session from a particular patient\n",
    "delete_session(bids_dir, \"026\", \"03\")\n",
    "print(bids_dir)"
   ]
  },
  {
   "cell_type": "markdown",
   "metadata": {},
   "source": [
    "### 4.3 Rename subject"
   ]
  },
  {
   "cell_type": "code",
   "execution_count": 10,
   "metadata": {},
   "outputs": [
    {
     "ename": "FileNotFoundError",
     "evalue": "Subject 1000 is not in the database.",
     "output_type": "error",
     "traceback": [
      "\u001b[1;31m---------------------------------------------------------------------------\u001b[0m",
      "\u001b[1;31mFileNotFoundError\u001b[0m                         Traceback (most recent call last)",
      "\u001b[1;32m<ipython-input-10-0295806c0633>\u001b[0m in \u001b[0;36m<module>\u001b[1;34m\u001b[0m\n\u001b[0;32m      1\u001b[0m \u001b[1;31m# Rename a subject in the database\u001b[0m\u001b[1;33m\u001b[0m\u001b[1;33m\u001b[0m\u001b[1;33m\u001b[0m\u001b[0m\n\u001b[1;32m----> 2\u001b[1;33m \u001b[0mrename_subject\u001b[0m\u001b[1;33m(\u001b[0m\u001b[0mbids_dir\u001b[0m\u001b[1;33m,\u001b[0m \u001b[0mold_id\u001b[0m\u001b[1;33m=\u001b[0m\u001b[1;34m'1000'\u001b[0m\u001b[1;33m,\u001b[0m\u001b[0mnew_id\u001b[0m\u001b[1;33m=\u001b[0m\u001b[1;34m'2000'\u001b[0m\u001b[1;33m)\u001b[0m\u001b[1;33m\u001b[0m\u001b[1;33m\u001b[0m\u001b[0m\n\u001b[0m",
      "\u001b[1;32m~\\OneDrive\\Bureau\\UCLouvain\\MSdicom2bids\\MSdicom2bids\\dicom2bids.py\u001b[0m in \u001b[0;36mrename_subject\u001b[1;34m(bids_dir, old_id, new_id)\u001b[0m\n\u001b[0;32m    352\u001b[0m         \u001b[1;32mraise\u001b[0m \u001b[0mFileExistsError\u001b[0m\u001b[1;33m(\u001b[0m\u001b[1;34mf\"Subject {new_id} already exists in the database. Delete the subject first or choose another subject id.\"\u001b[0m\u001b[1;33m)\u001b[0m\u001b[1;33m\u001b[0m\u001b[1;33m\u001b[0m\u001b[0m\n\u001b[0;32m    353\u001b[0m     \u001b[1;32mif\u001b[0m \u001b[1;32mnot\u001b[0m \u001b[0mos\u001b[0m\u001b[1;33m.\u001b[0m\u001b[0mpath\u001b[0m\u001b[1;33m.\u001b[0m\u001b[0mexists\u001b[0m\u001b[1;33m(\u001b[0m\u001b[0mos\u001b[0m\u001b[1;33m.\u001b[0m\u001b[0mpath\u001b[0m\u001b[1;33m.\u001b[0m\u001b[0mjoin\u001b[0m\u001b[1;33m(\u001b[0m\u001b[0mbids_dir\u001b[0m\u001b[1;33m,\u001b[0m \u001b[1;34mf'sub-{old_id}'\u001b[0m\u001b[1;33m)\u001b[0m\u001b[1;33m)\u001b[0m\u001b[1;33m:\u001b[0m\u001b[1;33m\u001b[0m\u001b[1;33m\u001b[0m\u001b[0m\n\u001b[1;32m--> 354\u001b[1;33m         \u001b[1;32mraise\u001b[0m \u001b[0mFileNotFoundError\u001b[0m\u001b[1;33m(\u001b[0m\u001b[1;34mf\"Subject {old_id} is not in the database.\"\u001b[0m\u001b[1;33m)\u001b[0m\u001b[1;33m\u001b[0m\u001b[1;33m\u001b[0m\u001b[0m\n\u001b[0m\u001b[0;32m    355\u001b[0m \u001b[1;33m\u001b[0m\u001b[0m\n\u001b[0;32m    356\u001b[0m     \u001b[0msubject_dir\u001b[0m \u001b[1;33m=\u001b[0m \u001b[0mos\u001b[0m\u001b[1;33m.\u001b[0m\u001b[0mpath\u001b[0m\u001b[1;33m.\u001b[0m\u001b[0mjoin\u001b[0m\u001b[1;33m(\u001b[0m\u001b[0mbids_dir\u001b[0m\u001b[1;33m,\u001b[0m \u001b[1;34mf\"sub-{old_id}\"\u001b[0m\u001b[1;33m)\u001b[0m\u001b[1;33m\u001b[0m\u001b[1;33m\u001b[0m\u001b[0m\n",
      "\u001b[1;31mFileNotFoundError\u001b[0m: Subject 1000 is not in the database."
     ]
    }
   ],
   "source": [
    "# Rename a subject in the database\n",
    "rename_subject(bids_dir, old_id='1000',new_id='2000')"
   ]
  },
  {
   "cell_type": "markdown",
   "metadata": {},
   "source": [
    "### 4.4. Reorient an image"
   ]
  },
  {
   "cell_type": "code",
   "execution_count": 20,
   "metadata": {},
   "outputs": [],
   "source": [
    "EPI_magnitude = 'acq-mag_T2star'\n",
    "EPI_phase = 'acq-phase_T2star'\n",
    "phase_wrapped = 'phase_WRAPPED'\n",
    "T2 = 'T2'\n",
    "T1 = 'T1'\n",
    "T1_Gd = 'T1w_Gd'\n",
    "FLAIRstar = 'acq-star_FLAIR'\n",
    "QSM = 'QSM'\n",
    "\n",
    "reorient(subject = '006', session = '01', \n",
    "         sequence_name = \"acq-phase_UNWRAPPED_corr-aff_y\", \n",
    "         axis = 'x',\n",
    "         DIR=bids_dir)"
   ]
  },
  {
   "cell_type": "code",
   "execution_count": 18,
   "metadata": {},
   "outputs": [],
   "source": [
    "##### CHANGE AFFINE ######\n",
    "replace_affine_or_header(path_to_img = \"/media/maggi/Pietro/MS-PRL/MS-PRL_Brussels/sub-006/ses-01/anat/sub-006_ses-01_acq-phase_UNWRAPPED.nii.gz\", \n",
    "                         path_to_target = \"/media/maggi/Pietro/MS-PRL/MS-PRL_Brussels/sub-006/ses-01/anat/sub-006_ses-01_acq-mag_T2star.nii.gz\", affine=True, header=False)\n"
   ]
  },
  {
   "cell_type": "markdown",
   "metadata": {},
   "source": [
    "### 4.5. Separate 4D image EPI"
   ]
  },
  {
   "cell_type": "code",
   "execution_count": 24,
   "metadata": {},
   "outputs": [],
   "source": [
    "separate_epi(subject='126', session='01', \n",
    "             DIR=bids_dir)"
   ]
  },
  {
   "cell_type": "code",
   "execution_count": null,
   "metadata": {},
   "outputs": [],
   "source": []
  }
 ],
 "metadata": {
  "kernelspec": {
   "display_name": "Python 3",
   "language": "python",
   "name": "python3"
  },
  "language_info": {
   "codemirror_mode": {
    "name": "ipython",
    "version": 3
   },
   "file_extension": ".py",
   "mimetype": "text/x-python",
   "name": "python",
   "nbconvert_exporter": "python",
   "pygments_lexer": "ipython3",
   "version": "3.8.5"
  }
 },
 "nbformat": 4,
 "nbformat_minor": 5
}
