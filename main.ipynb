{
 "cells": [
  {
   "cell_type": "markdown",
   "metadata": {},
   "source": [
    "# DICOM to BIDS converter"
   ]
  },
  {
   "cell_type": "markdown",
   "metadata": {},
   "source": [
    "Welcome to this DICOM to BIDS converter!\n",
    "\n",
    "This converter only handles the following MRI sequences:\n",
    "    - MPRAGE\n",
    "    - FLAIR\n",
    "    - EPI\n",
    "    - Phase\n",
    "    - Diffusion weighted imaging\n",
    "\n",
    "The converter should be used on dicom files coming directly out of the MR machine.\n",
    "\n",
    "#### /!\\ Important /!\\ : Run steps 1 and 2 before running anything else\n",
    "\n",
    "Authors: Maxence Wynen -- maxencewynen@gmail.com\n",
    "        Colin Vanden Bulcke -- colin.vandenbulcke@uclouvain.be"
   ]
  },
  {
   "cell_type": "markdown",
   "metadata": {},
   "source": [
    "## 1. Import dependencies"
   ]
  },
  {
   "cell_type": "code",
   "execution_count": 1,
   "metadata": {},
   "outputs": [
    {
     "name": "stdout",
     "output_type": "stream",
     "text": [
      "[INFO] Imports done\n"
     ]
    }
   ],
   "source": [
    "import os,sys,inspect\n",
    "current_dir = os.path.dirname(os.path.abspath(inspect.getfile(inspect.currentframe())))\n",
    "parent_dir = os.path.dirname(current_dir)\n",
    "sys.path.insert(0, parent_dir) \n",
    "from dicom2bids import *\n",
    "from change_orientation import *\n",
    "from reorient_phase_unwrapped import *\n",
    "from corr_header_for_registration import *\n",
    "print(\"[INFO] Imports done\")\n",
    "# Path to dcm2niix.exe converter -- Only for windows(Comment for unix/macOS users) \n",
    "dicom2niix_path = \"dcm2niix\" \n",
    "#dicom2niix_path = r\"C:\\Users\\Cristina\\Downloads\\dcm2niix.exe\" #\"C:/Users/maxen/OneDrive/Bureau/UCLouvain/Q14/WSBIM2243/project/dcm2niix.exe\" # Uncomment for Windows"
   ]
  },
  {
   "cell_type": "markdown",
   "metadata": {},
   "source": [
    "## 2. Make BIDSHandler object"
   ]
  },
  {
   "cell_type": "code",
   "execution_count": 2,
   "metadata": {},
   "outputs": [],
   "source": [
    "# Create BIDSHandler object, root_dir is the path to the BIDS folder's root\n",
    "bidshandler = BIDSHandler(root_dir=\"/media/stluc/MS-PRL/MS-PRL/MS-PRL_Brussels\",\n",
    "                          dicom2niix_path = dicom2niix_path)"
   ]
  },
  {
   "cell_type": "markdown",
   "metadata": {},
   "source": [
    "## 3. Automatically import a DICOM directory into BIDS format"
   ]
  },
  {
   "cell_type": "code",
   "execution_count": 3,
   "metadata": {},
   "outputs": [
    {
     "name": "stdout",
     "output_type": "stream",
     "text": [
      "[INFO] Starting to convert ...\n",
      "SUBDIR: /home/stluc/Data/BEN-ABOUD-09-MAR-2021/export/home1/sdc_image_pool/images/p837/e979/s20414\tDIRS: []\n",
      "SUBDIR: /home/stluc/Data/BEN-ABOUD-09-MAR-2021/export/home1/sdc_image_pool/images/p837/e979/s20417\tDIRS: []\n",
      "SUBDIR: /home/stluc/Data/BEN-ABOUD-09-MAR-2021/export/home1/sdc_image_pool/images/p837/e979/s20415\tDIRS: []\n",
      "SUBDIR: /home/stluc/Data/BEN-ABOUD-09-MAR-2021/export/home1/sdc_image_pool/images/p837/e979/s20416\tDIRS: []\n",
      "[INFO] Converted dicom files to \u001b[1m4\u001b[0m compressed nifti\n",
      "_s20417_Opt_DTI_4B_64_32_HB3_20210309151530_5__Eq_1\n",
      "File already existing in dest dir /home/stluc/Data/BIDS_test/sub-001/ses-02/dwi/sub-001_ses-02_DWI.nii.gz\n",
      "_s20417_Opt_DTI_4B_64_32_HB3_20210309151530_5_\n",
      "File already existing in dest dir /home/stluc/Data/BIDS_test/sub-001/ses-02/dwi/sub-001_ses-02_DWI.nii.gz\n",
      "File already existing in dest dir /home/stluc/Data/BIDS_test/sub-001/ses-02/dwi/sub-001_ses-02_DWI.json\n",
      "File already existing in dest dir /home/stluc/Data/BIDS_test/sub-001/ses-02/dwi/sub-001_ses-02_DWI.bval\n",
      "File already existing in dest dir /home/stluc/Data/BIDS_test/sub-001/ses-02/dwi/sub-001_ses-02_DWI.bvec\n",
      "SERIES: Opt_DTI_4B_64_32 HB3\n",
      "   Filenames: ['_s20417_Opt_DTI_4B_64_32_HB3_20210309151530_5__Eq_1', '_s20417_Opt_DTI_4B_64_32_HB3_20210309151530_5_']\n",
      "   RENAME: ['DWI', 'DWI']\n",
      "\n",
      "\n",
      "_s20415_Sag_T1_MPRAGE_1x1x1_20210309151530_3_\n",
      "File already existing in dest dir /home/stluc/Data/BIDS_test/sub-001/ses-02/anat/sub-001_ses-02_MPRAGE.nii.gz\n",
      "File already existing in dest dir /home/stluc/Data/BIDS_test/sub-001/ses-02/anat/sub-001_ses-02_MPRAGE.json\n",
      "SERIES: Sag T1 MPRAGE 1x1x1\n",
      "   Filenames: ['_s20415_Sag_T1_MPRAGE_1x1x1_20210309151530_3_']\n",
      "   RENAME: ['MPRAGE']\n",
      "\n",
      "\n",
      "_s20416_Opt_DTI_4B_64_32_HB3_20210309151530_4_a\n",
      "File already existing in dest dir /home/stluc/Data/BIDS_test/sub-001/ses-02/dwi/sub-001_ses-02_DWI.nii.gz\n",
      "File already existing in dest dir /home/stluc/Data/BIDS_test/sub-001/ses-02/dwi/sub-001_ses-02_DWI.json\n",
      "File already existing in dest dir /home/stluc/Data/BIDS_test/sub-001/ses-02/dwi/sub-001_ses-02_DWI.bval\n",
      "File already existing in dest dir /home/stluc/Data/BIDS_test/sub-001/ses-02/dwi/sub-001_ses-02_DWI.bvec\n",
      "_s20416_Opt_DTI_4B_64_32_HB3_20210309151530_4_a_Eq_1\n",
      "File already existing in dest dir /home/stluc/Data/BIDS_test/sub-001/ses-02/dwi/sub-001_ses-02_DWI.nii.gz\n",
      "_s20416_Opt_DTI_4B_64_32_HB3_20210309151530_4_\n",
      "File already existing in dest dir /home/stluc/Data/BIDS_test/sub-001/ses-02/dwi/sub-001_ses-02_DWI.nii.gz\n",
      "SERIES: Opt_DTI_4B_64_32 HB3\n",
      "   Filenames: ['_s20416_Opt_DTI_4B_64_32_HB3_20210309151530_4_a', '_s20416_Opt_DTI_4B_64_32_HB3_20210309151530_4_a_Eq_1', '_s20416_Opt_DTI_4B_64_32_HB3_20210309151530_4_']\n",
      "   RENAME: ['DWI', 'DWI', 'DWI']\n",
      "\n",
      "\n",
      "[ERROR] Error while trying to copy the dicom folder into\n",
      "sourcedata folder: sourcedata/sub-001/ses-02\n",
      "already exists and is not empty.\n",
      " Please remove this directory and try again.\n",
      "[INFO] Sorting dicoms ...\n",
      "reading file list...\n",
      "1279 files found.\n",
      "done.\n",
      "[1, 2, 3, 4, 1, 1]\n",
      "key_num = {key_num}\n",
      "[INFO] Anonymisation done\n",
      "[INFO] Done\n"
     ]
    }
   ],
   "source": [
    "# Path to dicom directory\n",
    "DICOM_FOLDER = r\"/home/stluc/Data/BEN-ABOUD-09-MAR-2021\"\n",
    "PATIENT_ID = '001'\n",
    "SESSION = '02'\n",
    "\n",
    "pat_id, session, dicom_series = bidshandler.convert_dicoms_to_bids(dicomfolder = DICOM_FOLDER, \n",
    "                                                                   pat_id      = PATIENT_ID,\n",
    "                                                                   session     = SESSION, \n",
    "                                                                   return_dicom_series=True)\n",
    "\n",
    "print(\"[INFO] Done\")"
   ]
  },
  {
   "cell_type": "code",
   "execution_count": 4,
   "metadata": {},
   "outputs": [
    {
     "name": "stdout",
     "output_type": "stream",
     "text": [
      "[INFO] Starting to convert ...\n",
      "SUBDIR: /home/stluc/Data/BEN-ABOUD-09-MAR-2021/export/home1/sdc_image_pool/images/p837/e979/s20414\tDIRS: []\n",
      "SUBDIR: /home/stluc/Data/BEN-ABOUD-09-MAR-2021/export/home1/sdc_image_pool/images/p837/e979/s20417\tDIRS: []\n",
      "SUBDIR: /home/stluc/Data/BEN-ABOUD-09-MAR-2021/export/home1/sdc_image_pool/images/p837/e979/s20425\tDIRS: []\n",
      "SUBDIR: /home/stluc/Data/BEN-ABOUD-09-MAR-2021/export/home1/sdc_image_pool/images/p837/e979/s20420\tDIRS: []\n",
      "SUBDIR: /home/stluc/Data/BEN-ABOUD-09-MAR-2021/export/home1/sdc_image_pool/images/p837/e979/s20415\tDIRS: []\n",
      "SUBDIR: /home/stluc/Data/BEN-ABOUD-09-MAR-2021/export/home1/sdc_image_pool/images/p837/e979/s20431\tDIRS: []\n",
      "SUBDIR: /home/stluc/Data/BEN-ABOUD-09-MAR-2021/export/home1/sdc_image_pool/images/p837/e979/s20424\tDIRS: []\n",
      "SUBDIR: /home/stluc/Data/BEN-ABOUD-09-MAR-2021/export/home1/sdc_image_pool/images/p837/e979/s20421\tDIRS: []\n",
      "SUBDIR: /home/stluc/Data/BEN-ABOUD-09-MAR-2021/export/home1/sdc_image_pool/images/p837/e979/s20422\tDIRS: []\n",
      "SUBDIR: /home/stluc/Data/BEN-ABOUD-09-MAR-2021/export/home1/sdc_image_pool/images/p837/e979/s20423\tDIRS: []\n",
      "SUBDIR: /home/stluc/Data/BEN-ABOUD-09-MAR-2021/export/home1/sdc_image_pool/images/p837/e979/s20419\tDIRS: []\n",
      "SUBDIR: /home/stluc/Data/BEN-ABOUD-09-MAR-2021/export/home1/sdc_image_pool/images/p837/e979/s20418\tDIRS: []\n",
      "SUBDIR: /home/stluc/Data/BEN-ABOUD-09-MAR-2021/export/home1/sdc_image_pool/images/p837/e979/s20427\tDIRS: []\n",
      "SUBDIR: /home/stluc/Data/BEN-ABOUD-09-MAR-2021/export/home1/sdc_image_pool/images/p837/e979/s20426\tDIRS: []\n",
      "SUBDIR: /home/stluc/Data/BEN-ABOUD-09-MAR-2021/export/home1/sdc_image_pool/images/p837/e979/s20428\tDIRS: []\n",
      "SUBDIR: /home/stluc/Data/BEN-ABOUD-09-MAR-2021/export/home1/sdc_image_pool/images/p837/e979/s20429\tDIRS: []\n",
      "SUBDIR: /home/stluc/Data/BEN-ABOUD-09-MAR-2021/export/home1/sdc_image_pool/images/p837/e979/s20416\tDIRS: []\n",
      "SUBDIR: /home/stluc/Data/BEN-ABOUD-09-MAR-2021/export/home1/sdc_image_pool/images/p837/e979/s20430\tDIRS: []\n",
      "[INFO] Converted dicom files to \u001b[1m18\u001b[0m compressed nifti\n"
     ]
    }
   ],
   "source": [
    "dicom_series = bidshandler.convert_all_dicoms(DICOM_FOLDER)"
   ]
  },
  {
   "cell_type": "code",
   "execution_count": 19,
   "metadata": {},
   "outputs": [],
   "source": [
    "bidshandler.delete_nii_json_in_dicomdir(dicom_series)"
   ]
  },
  {
   "cell_type": "markdown",
   "metadata": {},
   "source": [
    "## 4.Optional functionalities"
   ]
  },
  {
   "cell_type": "markdown",
   "metadata": {},
   "source": [
    "### 4.1. Delete subject"
   ]
  },
  {
   "cell_type": "code",
   "execution_count": null,
   "metadata": {},
   "outputs": [],
   "source": [
    "# Remove a patient from the database\n",
    "bidshandler.delete_subject(\"2097\")"
   ]
  },
  {
   "cell_type": "markdown",
   "metadata": {},
   "source": [
    "### 4.2. Delete session"
   ]
  },
  {
   "cell_type": "code",
   "execution_count": null,
   "metadata": {
    "scrolled": true
   },
   "outputs": [],
   "source": [
    "# Remove a particular session from a particular patient\n",
    "bidshandler.delete_session(\"026\", \"03\")"
   ]
  },
  {
   "cell_type": "markdown",
   "metadata": {},
   "source": [
    "### 4.3 Rename subject"
   ]
  },
  {
   "cell_type": "code",
   "execution_count": null,
   "metadata": {},
   "outputs": [],
   "source": [
    "# Rename a subject in the database\n",
    "bidshandler.rename_subject(old_id='1000',new_id='2000')"
   ]
  },
  {
   "cell_type": "markdown",
   "metadata": {},
   "source": [
    "## 5. Image processing tools"
   ]
  },
  {
   "cell_type": "markdown",
   "metadata": {},
   "source": [
    "### 5.1. Reorient an image"
   ]
  },
  {
   "cell_type": "code",
   "execution_count": 18,
   "metadata": {},
   "outputs": [],
   "source": [
    "EPI_magnitude = 'acq-mag_T2star'\n",
    "EPI_phase = 'acq-phase_T2star'\n",
    "phase_wrapped = 'phase_WRAPPED'\n",
    "T2 = 'T2'\n",
    "T1 = 'T1'\n",
    "T1_Gd = 'T1w_Gd'\n",
    "FLAIRstar = 'acq-star_FLAIR'\n",
    "QSM = 'QSM'\n",
    "\n",
    "reorient(subject = '024', session = '03', \n",
    "         sequence_name = FLAIRstar + '_regstar', \n",
    "         axis = 'x',\n",
    "         DIR=bidshandler.root_dir)"
   ]
  },
  {
   "cell_type": "code",
   "execution_count": null,
   "metadata": {},
   "outputs": [],
   "source": [
    "##### CHANGE AFFINE ######\n",
    "replace_affine_or_header(path_to_img = \"/media/maggi/MS-PRL/MS-PRL/MS-PRL_Brussels/sub-059/ses-01/anat/sub-059_ses-01_acq-phase_T2star_UNWRAPPED.nii.gz\", \n",
    "                         path_to_target = \"/media/maggi/MS-PRL/MS-PRL/MS-PRL_Brussels/sub-137/ses-01/anat/sub-137_ses-01_acq-mag_T2star.nii.gz\", affine=True, header=False)\n",
    "\n",
    "\n",
    "### 4.5. Reorient phase image after docker unwrapping"
   ]
  },
  {
   "cell_type": "code",
   "execution_count": 6,
   "metadata": {},
   "outputs": [
    {
     "name": "stdout",
     "output_type": "stream",
     "text": [
      "[INFO] Phase Reoriented !\n"
     ]
    }
   ],
   "source": [
    "### REORIENT THE UNWRAPPED PHASE IMAGE AFTER DOCKER UNWRAPPING ###\n",
    "phase_filename = \"/media/stluc/MS-PRL/MS-PRL/MS-PRL_Brussels/derivatives/segmentations/sub-026/ses-02/sub-026_ses-02_mask-Control.nii.gz\"\n",
    "t2star_filename = \"/media/stluc/MS-PRL/MS-PRL/MS-PRL_Brussels/sub-026/ses-02/anat/sub-026_ses-02_acq-mag_T2star.nii.gz\"\n",
    "\n",
    "reorient_phase_unwrapped(phase_filename, t2star_filename)"
   ]
  },
  {
   "cell_type": "code",
   "execution_count": null,
   "metadata": {},
   "outputs": [],
   "source": [
    "### REORIENT THE UNWRAPPED PHASE IMAGE AFTER DOCKER UNWRAPPING (second possibility) ###\n",
    "phase_filename = \"/media/maggi/MS-PRL/MS-PRL/MS-PRL_Brussels/sub-026/ses-01/anat/sub-026_ses-01_phase.nii.gz\"\n",
    "\n",
    "reorient_phase_unwrapped_2(phase_filename)"
   ]
  },
  {
   "cell_type": "markdown",
   "metadata": {},
   "source": [
    "### 5.2. Correct header for registration"
   ]
  },
  {
   "cell_type": "code",
   "execution_count": null,
   "metadata": {},
   "outputs": [],
   "source": [
    "### 4.6. Correct header for registration ###\n",
    "filename = \"/media/maggi/MS-PRL/MS-PRL/MS-PRL_Brussels/sub-058/ses-02/anat/sub-058_ses-02_acq-phase_T2star.nii.gz\"\n",
    "corr_header_for_registration(filename)"
   ]
  },
  {
   "cell_type": "markdown",
   "metadata": {},
   "source": [
    "### 5.3. Separate 4D image EPI"
   ]
  },
  {
   "cell_type": "code",
   "execution_count": null,
   "metadata": {},
   "outputs": [],
   "source": [
    "separate_epi(subject='126', session='01', \n",
    "             DIR=bids_dir)"
   ]
  },
  {
   "cell_type": "code",
   "execution_count": null,
   "metadata": {},
   "outputs": [],
   "source": []
  }
 ],
 "metadata": {
  "kernelspec": {
   "display_name": "Python 3",
   "language": "python",
   "name": "python3"
  },
  "language_info": {
   "codemirror_mode": {
    "name": "ipython",
    "version": 3
   },
   "file_extension": ".py",
   "mimetype": "text/x-python",
   "name": "python",
   "nbconvert_exporter": "python",
   "pygments_lexer": "ipython3",
   "version": "3.8.3"
  }
 },
 "nbformat": 4,
 "nbformat_minor": 5
}
