{
 "cells": [
  {
   "cell_type": "markdown",
   "id": "spanish-occurrence",
   "metadata": {},
   "source": [
    "# DICOM to BIDS converter"
   ]
  },
  {
   "cell_type": "markdown",
   "id": "governing-defense",
   "metadata": {},
   "source": [
    "Welcome to this DICOM to BIDS converter!\n",
    "\n",
    "This converter only handles the following MRI sequences:\n",
    "    - MPRAGE\n",
    "    - FLAIR\n",
    "    - EPI\n",
    "    - Phase\n",
    "    - Diffusion weighted imaging\n",
    "\n",
    "The converter should be used on dicom files coming directly out of the MR machine.\n",
    "\n",
    "#### /!\\ Important /!\\ : Run steps 1 and 2 before running anything else\n",
    "\n",
    "Author: Maxence Wynen -- maxencewynen@gmail.com"
   ]
  },
  {
   "cell_type": "markdown",
   "id": "binary-auction",
   "metadata": {},
   "source": [
    "## 1. Import dependencies"
   ]
  },
  {
   "cell_type": "code",
   "execution_count": null,
   "id": "flying-radar",
   "metadata": {},
   "outputs": [],
   "source": [
    "import os,sys,inspect\n",
    "current_dir = os.path.dirname(os.path.abspath(inspect.getfile(inspect.currentframe())))\n",
    "parent_dir = os.path.dirname(current_dir)\n",
    "sys.path.insert(0, parent_dir) \n",
    "from dicom2bids import *\n",
    "print(\"[INFO] Imports done\")"
   ]
  },
  {
   "cell_type": "markdown",
   "id": "gothic-satisfaction",
   "metadata": {},
   "source": [
    "## 2. Set paths"
   ]
  },
  {
   "cell_type": "code",
   "execution_count": null,
   "id": "assisted-mission",
   "metadata": {},
   "outputs": [],
   "source": [
    "# Path to dicom directory\n",
    "directory = \"D:/WSBIM/ROSE\"\n",
    "# Output BIDS directory. Should previously be created.\n",
    "bids_dir = \"C:/Users/maxen/OneDrive/Bureau/UCLouvain/Q14/WSBIM2243/project/WSBIM2243/database\"\n",
    "# Path to dcm2niix.exe converter -- Only for windows(Comment for unix/macOS users) \n",
    "dicom2niix_path = \"dicom2niix\" \n",
    "dicom2niix_path = \"C:/Users/maxen/OneDrive/Bureau/UCLouvain/Q14/WSBIM2243/project/dcm2niix.exe\" # Uncomment for Windows"
   ]
  },
  {
   "cell_type": "markdown",
   "id": "shared-craps",
   "metadata": {},
   "source": [
    "## 3. Automatically import a DICOM directory into a BIDS format"
   ]
  },
  {
   "cell_type": "code",
   "execution_count": null,
   "id": "charming-script",
   "metadata": {},
   "outputs": [],
   "source": [
    "# Convert all DICOMs\n",
    "dicom_series = convert_all_dicoms(directory, dicom2niix_path)\n",
    "\n",
    "# Create directories in the BIDS file structure by giving an incremental id\n",
    "pat_id, session = make_directories(bids_dir,pat_id=None,session='02')\n",
    "# To specify the patient id:\n",
    "# pat_id, session = make_directories(bids_dir,pat_id='ID_TO_SPECIFY',session=None)\n",
    "# To specify the patient id and session:\n",
    "# pat_id, session = make_directories(bids_dir,pat_id='ID_TO_SPECIFY',session='SESSION_TO_SPECIFY')\n",
    "\n",
    "# Rename and move all (interesting) converted files into the bids directory\n",
    "rename_and_move_nifti(dicom_series, bids_dir, pat_id, session)\n",
    "\n",
    "print(\"[INFO] Done\")"
   ]
  },
  {
   "cell_type": "markdown",
   "id": "honest-majority",
   "metadata": {},
   "source": [
    "## 4.Optional functionalities"
   ]
  },
  {
   "cell_type": "markdown",
   "id": "compatible-stanley",
   "metadata": {},
   "source": [
    "### 4.1. Delete subject"
   ]
  },
  {
   "cell_type": "code",
   "execution_count": null,
   "id": "widespread-flower",
   "metadata": {},
   "outputs": [],
   "source": [
    "# Remove a patient from the database\n",
    "delete_subject(bids_dir, \"002\")"
   ]
  },
  {
   "cell_type": "markdown",
   "id": "manufactured-pound",
   "metadata": {},
   "source": [
    "### 4.2. Delete session"
   ]
  },
  {
   "cell_type": "code",
   "execution_count": null,
   "id": "cheap-basket",
   "metadata": {},
   "outputs": [],
   "source": [
    "# Remove a particular session from a particular patient\n",
    "delete_session(bids_dir, \"002\", \"02\")"
   ]
  }
 ],
 "metadata": {
  "kernelspec": {
   "display_name": "Python 3",
   "language": "python",
   "name": "python3"
  },
  "language_info": {
   "codemirror_mode": {
    "name": "ipython",
    "version": 3
   },
   "file_extension": ".py",
   "mimetype": "text/x-python",
   "name": "python",
   "nbconvert_exporter": "python",
   "pygments_lexer": "ipython3",
   "version": "3.7.9"
  }
 },
 "nbformat": 4,
 "nbformat_minor": 5
}
