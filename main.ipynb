{
 "cells": [
  {
   "cell_type": "markdown",
   "metadata": {},
   "source": [
    "# DICOM to BIDS converter"
   ]
  },
  {
   "cell_type": "markdown",
   "metadata": {},
   "source": [
    "Welcome to this DICOM to BIDS converter!\n",
    "\n",
    "This converter only handles the following MRI sequences:\n",
    "    - MPRAGE\n",
    "    - FLAIR\n",
    "    - EPI\n",
    "    - Phase\n",
    "    - Diffusion weighted imaging\n",
    "\n",
    "The converter should be used on dicom files coming directly out of the MR machine.\n",
    "\n",
    "#### /!\\ Important /!\\ : Run steps 1 and 2 before running anything else\n",
    "\n",
    "Authors: Maxence Wynen -- maxencewynen@gmail.com\n",
    "        Colin Vanden Bulcke -- colin.vandenbulcke@uclouvain.be"
   ]
  },
  {
   "cell_type": "markdown",
   "metadata": {},
   "source": [
    "## 1. Import dependencies"
   ]
  },
  {
   "cell_type": "code",
   "execution_count": 7,
   "metadata": {},
   "outputs": [
    {
     "name": "stdout",
     "output_type": "stream",
     "text": [
      "[INFO] Imports done\n"
     ]
    }
   ],
   "source": [
    "import os,sys,inspect\n",
    "current_dir = os.path.dirname(os.path.abspath(inspect.getfile(inspect.currentframe())))\n",
    "parent_dir = os.path.dirname(current_dir)\n",
    "sys.path.insert(0, parent_dir) \n",
    "from dicom2bids import *\n",
    "from change_orientation import *\n",
    "from reorient_phase_unwrapped import *\n",
    "from corr_header_for_registration import *\n",
    "print(\"[INFO] Imports done\")\n",
    "# Path to dcm2niix.exe converter -- Only for windows(Comment for unix/macOS users) \n",
    "dicom2niix_path = \"dcm2niix\" \n",
    "#dicom2niix_path = r\"C:\\Users\\Cristina\\Downloads\\dcm2niix.exe\" #\"C:/Users/maxen/OneDrive/Bureau/UCLouvain/Q14/WSBIM2243/project/dcm2niix.exe\" # Uncomment for Windows"
   ]
  },
  {
   "cell_type": "markdown",
   "metadata": {},
   "source": [
    "## 2. Make BIDSHandler object"
   ]
  },
  {
   "cell_type": "code",
   "execution_count": 8,
   "metadata": {},
   "outputs": [],
   "source": [
    "# Create BIDSHandler object, root_dir is the path to the BIDS folder's root\n",
    "bidshandler = BIDSHandler(root_dir=\"/home/stluc/Data/BIDS_test\",\n",
    "                          dicom2niix_path = dicom2niix_path)"
   ]
  },
  {
   "cell_type": "markdown",
   "metadata": {},
   "source": [
    "## 3. Automatically import a DICOM directory into BIDS format"
   ]
  },
  {
   "cell_type": "code",
   "execution_count": 11,
   "metadata": {},
   "outputs": [
    {
     "name": "stdout",
     "output_type": "stream",
     "text": [
      "[INFO] Starting to convert ...\n",
      "SUBDIR: /home/stluc/Data/BEN-ABOUD-09-MAR-2021/export/home1/sdc_image_pool/images/p837/e979/s20414\tDIRS: []\n",
      "SUBDIR: /home/stluc/Data/BEN-ABOUD-09-MAR-2021/export/home1/sdc_image_pool/images/p837/e979/s20417\tDIRS: []\n",
      "SUBDIR: /home/stluc/Data/BEN-ABOUD-09-MAR-2021/export/home1/sdc_image_pool/images/p837/e979/s20425\tDIRS: []\n",
      "SUBDIR: /home/stluc/Data/BEN-ABOUD-09-MAR-2021/export/home1/sdc_image_pool/images/p837/e979/s20420\tDIRS: []\n",
      "SUBDIR: /home/stluc/Data/BEN-ABOUD-09-MAR-2021/export/home1/sdc_image_pool/images/p837/e979/s20415\tDIRS: []\n",
      "SUBDIR: /home/stluc/Data/BEN-ABOUD-09-MAR-2021/export/home1/sdc_image_pool/images/p837/e979/s20431\tDIRS: []\n",
      "SUBDIR: /home/stluc/Data/BEN-ABOUD-09-MAR-2021/export/home1/sdc_image_pool/images/p837/e979/s20424\tDIRS: []\n",
      "SUBDIR: /home/stluc/Data/BEN-ABOUD-09-MAR-2021/export/home1/sdc_image_pool/images/p837/e979/s20421\tDIRS: []\n",
      "SUBDIR: /home/stluc/Data/BEN-ABOUD-09-MAR-2021/export/home1/sdc_image_pool/images/p837/e979/s20422\tDIRS: []\n",
      "SUBDIR: /home/stluc/Data/BEN-ABOUD-09-MAR-2021/export/home1/sdc_image_pool/images/p837/e979/s20423\tDIRS: []\n",
      "SUBDIR: /home/stluc/Data/BEN-ABOUD-09-MAR-2021/export/home1/sdc_image_pool/images/p837/e979/s20419\tDIRS: []\n",
      "SUBDIR: /home/stluc/Data/BEN-ABOUD-09-MAR-2021/export/home1/sdc_image_pool/images/p837/e979/s20418\tDIRS: []\n",
      "SUBDIR: /home/stluc/Data/BEN-ABOUD-09-MAR-2021/export/home1/sdc_image_pool/images/p837/e979/s20427\tDIRS: []\n",
      "SUBDIR: /home/stluc/Data/BEN-ABOUD-09-MAR-2021/export/home1/sdc_image_pool/images/p837/e979/s20426\tDIRS: []\n",
      "SUBDIR: /home/stluc/Data/BEN-ABOUD-09-MAR-2021/export/home1/sdc_image_pool/images/p837/e979/s20428\tDIRS: []\n",
      "SUBDIR: /home/stluc/Data/BEN-ABOUD-09-MAR-2021/export/home1/sdc_image_pool/images/p837/e979/s20429\tDIRS: []\n",
      "SUBDIR: /home/stluc/Data/BEN-ABOUD-09-MAR-2021/export/home1/sdc_image_pool/images/p837/e979/s20416\tDIRS: []\n",
      "SUBDIR: /home/stluc/Data/BEN-ABOUD-09-MAR-2021/export/home1/sdc_image_pool/images/p837/e979/s20430\tDIRS: []\n",
      "[INFO] Converted dicom files to \u001b[1m18\u001b[0m compressed nifti\n",
      "['DWI']\n"
     ]
    },
    {
     "ename": "FileNotFoundError",
     "evalue": "[Errno 2] No such file or directory: '/home/stluc/Data/BEN-ABOUD-09-MAR-2021/export/home1/sdc_image_pool/images/p837/e979/s20417/_s20417_Opt_DTI_4B_64_32_HB3_20210309151530_5__Eq_1.json'",
     "output_type": "error",
     "traceback": [
      "\u001b[0;31m---------------------------------------------------------------------------\u001b[0m",
      "\u001b[0;31mFileNotFoundError\u001b[0m                         Traceback (most recent call last)",
      "\u001b[0;32m~/Programmes/anaconda3/lib/python3.8/shutil.py\u001b[0m in \u001b[0;36mmove\u001b[0;34m(src, dst, copy_function)\u001b[0m\n\u001b[1;32m    787\u001b[0m     \u001b[0;32mtry\u001b[0m\u001b[0;34m:\u001b[0m\u001b[0;34m\u001b[0m\u001b[0;34m\u001b[0m\u001b[0m\n\u001b[0;32m--> 788\u001b[0;31m         \u001b[0mos\u001b[0m\u001b[0;34m.\u001b[0m\u001b[0mrename\u001b[0m\u001b[0;34m(\u001b[0m\u001b[0msrc\u001b[0m\u001b[0;34m,\u001b[0m \u001b[0mreal_dst\u001b[0m\u001b[0;34m)\u001b[0m\u001b[0;34m\u001b[0m\u001b[0;34m\u001b[0m\u001b[0m\n\u001b[0m\u001b[1;32m    789\u001b[0m     \u001b[0;32mexcept\u001b[0m \u001b[0mOSError\u001b[0m\u001b[0;34m:\u001b[0m\u001b[0;34m\u001b[0m\u001b[0;34m\u001b[0m\u001b[0m\n",
      "\u001b[0;31mFileNotFoundError\u001b[0m: [Errno 2] No such file or directory: '/home/stluc/Data/BEN-ABOUD-09-MAR-2021/export/home1/sdc_image_pool/images/p837/e979/s20417/_s20417_Opt_DTI_4B_64_32_HB3_20210309151530_5__Eq_1.json' -> '/home/stluc/Data/BIDS_test/sub-004/ses-01/dwi/sub-004_ses-01_DWI.json'",
      "\nDuring handling of the above exception, another exception occurred:\n",
      "\u001b[0;31mFileNotFoundError\u001b[0m                         Traceback (most recent call last)",
      "\u001b[0;32m<ipython-input-11-3d49243010d8>\u001b[0m in \u001b[0;36m<module>\u001b[0;34m\u001b[0m\n\u001b[1;32m      4\u001b[0m \u001b[0mSESSION\u001b[0m \u001b[0;34m=\u001b[0m \u001b[0;32mNone\u001b[0m\u001b[0;34m\u001b[0m\u001b[0;34m\u001b[0m\u001b[0m\n\u001b[1;32m      5\u001b[0m \u001b[0;34m\u001b[0m\u001b[0m\n\u001b[0;32m----> 6\u001b[0;31m pat_id, session, dicom_series = bidshandler.convert_dicoms_to_bids(dicomfolder = DICOM_FOLDER, \n\u001b[0m\u001b[1;32m      7\u001b[0m                                                                    \u001b[0mpat_id\u001b[0m      \u001b[0;34m=\u001b[0m \u001b[0mPATIENT_ID\u001b[0m\u001b[0;34m,\u001b[0m\u001b[0;34m\u001b[0m\u001b[0;34m\u001b[0m\u001b[0m\n\u001b[1;32m      8\u001b[0m                                                                    \u001b[0msession\u001b[0m     \u001b[0;34m=\u001b[0m \u001b[0mSESSION\u001b[0m\u001b[0;34m,\u001b[0m\u001b[0;34m\u001b[0m\u001b[0;34m\u001b[0m\u001b[0m\n",
      "\u001b[0;32m~/Programmes/MSdicom2bids/dicom2bids.py\u001b[0m in \u001b[0;36mconvert_dicoms_to_bids\u001b[0;34m(self, dicomfolder, pat_id, session, return_dicom_series)\u001b[0m\n\u001b[1;32m    491\u001b[0m \u001b[0;34m\u001b[0m\u001b[0m\n\u001b[1;32m    492\u001b[0m         \u001b[0;31m# Rename and move all (interesting) converted files into the bids directory\u001b[0m\u001b[0;34m\u001b[0m\u001b[0;34m\u001b[0m\u001b[0;34m\u001b[0m\u001b[0m\n\u001b[0;32m--> 493\u001b[0;31m         \u001b[0mself\u001b[0m\u001b[0;34m.\u001b[0m\u001b[0mrename_and_move_nifti\u001b[0m\u001b[0;34m(\u001b[0m\u001b[0mdicom_series\u001b[0m\u001b[0;34m,\u001b[0m \u001b[0mpat_id\u001b[0m\u001b[0;34m,\u001b[0m \u001b[0msession\u001b[0m\u001b[0;34m)\u001b[0m\u001b[0;34m\u001b[0m\u001b[0;34m\u001b[0m\u001b[0m\n\u001b[0m\u001b[1;32m    494\u001b[0m \u001b[0;34m\u001b[0m\u001b[0m\n\u001b[1;32m    495\u001b[0m         \u001b[0mself\u001b[0m\u001b[0;34m.\u001b[0m\u001b[0mcopy_dicomfolder_to_sourcedata\u001b[0m\u001b[0;34m(\u001b[0m\u001b[0mdicomfolder\u001b[0m\u001b[0;34m,\u001b[0m \u001b[0mpat_id\u001b[0m\u001b[0;34m,\u001b[0m \u001b[0msession\u001b[0m\u001b[0;34m)\u001b[0m\u001b[0;34m\u001b[0m\u001b[0;34m\u001b[0m\u001b[0m\n",
      "\u001b[0;32m~/Programmes/MSdicom2bids/dicom2bids.py\u001b[0m in \u001b[0;36mrename_and_move_nifti\u001b[0;34m(self, dicom_series, pat_id, session)\u001b[0m\n\u001b[1;32m    392\u001b[0m                 \u001b[0mdos\u001b[0m \u001b[0;34m=\u001b[0m \u001b[0;34m'dwi'\u001b[0m \u001b[0;32mif\u001b[0m \u001b[0mnew_name\u001b[0m \u001b[0;34m==\u001b[0m \u001b[0;34m'DWI'\u001b[0m \u001b[0;32melse\u001b[0m \u001b[0;34m'anat'\u001b[0m\u001b[0;34m\u001b[0m\u001b[0;34m\u001b[0m\u001b[0m\n\u001b[1;32m    393\u001b[0m                 \u001b[0;32mif\u001b[0m \u001b[0mnew_name\u001b[0m \u001b[0;34m==\u001b[0m \u001b[0;34m\"DWI\"\u001b[0m\u001b[0;34m:\u001b[0m\u001b[0;34m\u001b[0m\u001b[0;34m\u001b[0m\u001b[0m\n\u001b[0;32m--> 394\u001b[0;31m                     move_all(path, \n\u001b[0m\u001b[1;32m    395\u001b[0m                              \u001b[0mfilename\u001b[0m\u001b[0;34m,\u001b[0m\u001b[0;34m\u001b[0m\u001b[0;34m\u001b[0m\u001b[0m\n\u001b[1;32m    396\u001b[0m                              \u001b[0;34m[\u001b[0m\u001b[0;34m\"nii.gz\"\u001b[0m\u001b[0;34m,\u001b[0m \u001b[0;34m\"json\"\u001b[0m\u001b[0;34m,\u001b[0m \u001b[0;34m\"bval\"\u001b[0m\u001b[0;34m,\u001b[0m \u001b[0;34m\"bvec\"\u001b[0m\u001b[0;34m]\u001b[0m\u001b[0;34m,\u001b[0m\u001b[0;34m\u001b[0m\u001b[0;34m\u001b[0m\u001b[0m\n",
      "\u001b[0;32m~/Programmes/MSdicom2bids/dicom2bids.py\u001b[0m in \u001b[0;36mmove_all\u001b[0;34m(path, filename, file_extensions, dest_dir, new_filename)\u001b[0m\n\u001b[1;32m    314\u001b[0m         \u001b[0;32mdef\u001b[0m \u001b[0mmove_all\u001b[0m\u001b[0;34m(\u001b[0m\u001b[0mpath\u001b[0m\u001b[0;34m,\u001b[0m \u001b[0mfilename\u001b[0m\u001b[0;34m,\u001b[0m \u001b[0mfile_extensions\u001b[0m\u001b[0;34m,\u001b[0m \u001b[0mdest_dir\u001b[0m\u001b[0;34m,\u001b[0m \u001b[0mnew_filename\u001b[0m\u001b[0;34m)\u001b[0m\u001b[0;34m:\u001b[0m\u001b[0;34m\u001b[0m\u001b[0;34m\u001b[0m\u001b[0m\n\u001b[1;32m    315\u001b[0m             \u001b[0;32mfor\u001b[0m \u001b[0mfile_extension\u001b[0m \u001b[0;32min\u001b[0m \u001b[0mfile_extensions\u001b[0m\u001b[0;34m:\u001b[0m\u001b[0;34m\u001b[0m\u001b[0;34m\u001b[0m\u001b[0m\n\u001b[0;32m--> 316\u001b[0;31m                 shutil.move(pjoin(path, f\"{filename}.{file_extension}\"),\n\u001b[0m\u001b[1;32m    317\u001b[0m                             pjoin(dest_dir, f\"{new_filename}.{file_extension}\"))\n\u001b[1;32m    318\u001b[0m \u001b[0;34m\u001b[0m\u001b[0m\n",
      "\u001b[0;32m~/Programmes/anaconda3/lib/python3.8/shutil.py\u001b[0m in \u001b[0;36mmove\u001b[0;34m(src, dst, copy_function)\u001b[0m\n\u001b[1;32m    800\u001b[0m             \u001b[0mrmtree\u001b[0m\u001b[0;34m(\u001b[0m\u001b[0msrc\u001b[0m\u001b[0;34m)\u001b[0m\u001b[0;34m\u001b[0m\u001b[0;34m\u001b[0m\u001b[0m\n\u001b[1;32m    801\u001b[0m         \u001b[0;32melse\u001b[0m\u001b[0;34m:\u001b[0m\u001b[0;34m\u001b[0m\u001b[0;34m\u001b[0m\u001b[0m\n\u001b[0;32m--> 802\u001b[0;31m             \u001b[0mcopy_function\u001b[0m\u001b[0;34m(\u001b[0m\u001b[0msrc\u001b[0m\u001b[0;34m,\u001b[0m \u001b[0mreal_dst\u001b[0m\u001b[0;34m)\u001b[0m\u001b[0;34m\u001b[0m\u001b[0;34m\u001b[0m\u001b[0m\n\u001b[0m\u001b[1;32m    803\u001b[0m             \u001b[0mos\u001b[0m\u001b[0;34m.\u001b[0m\u001b[0munlink\u001b[0m\u001b[0;34m(\u001b[0m\u001b[0msrc\u001b[0m\u001b[0;34m)\u001b[0m\u001b[0;34m\u001b[0m\u001b[0;34m\u001b[0m\u001b[0m\n\u001b[1;32m    804\u001b[0m     \u001b[0;32mreturn\u001b[0m \u001b[0mreal_dst\u001b[0m\u001b[0;34m\u001b[0m\u001b[0;34m\u001b[0m\u001b[0m\n",
      "\u001b[0;32m~/Programmes/anaconda3/lib/python3.8/shutil.py\u001b[0m in \u001b[0;36mcopy2\u001b[0;34m(src, dst, follow_symlinks)\u001b[0m\n\u001b[1;32m    430\u001b[0m     \u001b[0;32mif\u001b[0m \u001b[0mos\u001b[0m\u001b[0;34m.\u001b[0m\u001b[0mpath\u001b[0m\u001b[0;34m.\u001b[0m\u001b[0misdir\u001b[0m\u001b[0;34m(\u001b[0m\u001b[0mdst\u001b[0m\u001b[0;34m)\u001b[0m\u001b[0;34m:\u001b[0m\u001b[0;34m\u001b[0m\u001b[0;34m\u001b[0m\u001b[0m\n\u001b[1;32m    431\u001b[0m         \u001b[0mdst\u001b[0m \u001b[0;34m=\u001b[0m \u001b[0mos\u001b[0m\u001b[0;34m.\u001b[0m\u001b[0mpath\u001b[0m\u001b[0;34m.\u001b[0m\u001b[0mjoin\u001b[0m\u001b[0;34m(\u001b[0m\u001b[0mdst\u001b[0m\u001b[0;34m,\u001b[0m \u001b[0mos\u001b[0m\u001b[0;34m.\u001b[0m\u001b[0mpath\u001b[0m\u001b[0;34m.\u001b[0m\u001b[0mbasename\u001b[0m\u001b[0;34m(\u001b[0m\u001b[0msrc\u001b[0m\u001b[0;34m)\u001b[0m\u001b[0;34m)\u001b[0m\u001b[0;34m\u001b[0m\u001b[0;34m\u001b[0m\u001b[0m\n\u001b[0;32m--> 432\u001b[0;31m     \u001b[0mcopyfile\u001b[0m\u001b[0;34m(\u001b[0m\u001b[0msrc\u001b[0m\u001b[0;34m,\u001b[0m \u001b[0mdst\u001b[0m\u001b[0;34m,\u001b[0m \u001b[0mfollow_symlinks\u001b[0m\u001b[0;34m=\u001b[0m\u001b[0mfollow_symlinks\u001b[0m\u001b[0;34m)\u001b[0m\u001b[0;34m\u001b[0m\u001b[0;34m\u001b[0m\u001b[0m\n\u001b[0m\u001b[1;32m    433\u001b[0m     \u001b[0mcopystat\u001b[0m\u001b[0;34m(\u001b[0m\u001b[0msrc\u001b[0m\u001b[0;34m,\u001b[0m \u001b[0mdst\u001b[0m\u001b[0;34m,\u001b[0m \u001b[0mfollow_symlinks\u001b[0m\u001b[0;34m=\u001b[0m\u001b[0mfollow_symlinks\u001b[0m\u001b[0;34m)\u001b[0m\u001b[0;34m\u001b[0m\u001b[0;34m\u001b[0m\u001b[0m\n\u001b[1;32m    434\u001b[0m     \u001b[0;32mreturn\u001b[0m \u001b[0mdst\u001b[0m\u001b[0;34m\u001b[0m\u001b[0;34m\u001b[0m\u001b[0m\n",
      "\u001b[0;32m~/Programmes/anaconda3/lib/python3.8/shutil.py\u001b[0m in \u001b[0;36mcopyfile\u001b[0;34m(src, dst, follow_symlinks)\u001b[0m\n\u001b[1;32m    259\u001b[0m         \u001b[0mos\u001b[0m\u001b[0;34m.\u001b[0m\u001b[0msymlink\u001b[0m\u001b[0;34m(\u001b[0m\u001b[0mos\u001b[0m\u001b[0;34m.\u001b[0m\u001b[0mreadlink\u001b[0m\u001b[0;34m(\u001b[0m\u001b[0msrc\u001b[0m\u001b[0;34m)\u001b[0m\u001b[0;34m,\u001b[0m \u001b[0mdst\u001b[0m\u001b[0;34m)\u001b[0m\u001b[0;34m\u001b[0m\u001b[0;34m\u001b[0m\u001b[0m\n\u001b[1;32m    260\u001b[0m     \u001b[0;32melse\u001b[0m\u001b[0;34m:\u001b[0m\u001b[0;34m\u001b[0m\u001b[0;34m\u001b[0m\u001b[0m\n\u001b[0;32m--> 261\u001b[0;31m         \u001b[0;32mwith\u001b[0m \u001b[0mopen\u001b[0m\u001b[0;34m(\u001b[0m\u001b[0msrc\u001b[0m\u001b[0;34m,\u001b[0m \u001b[0;34m'rb'\u001b[0m\u001b[0;34m)\u001b[0m \u001b[0;32mas\u001b[0m \u001b[0mfsrc\u001b[0m\u001b[0;34m,\u001b[0m \u001b[0mopen\u001b[0m\u001b[0;34m(\u001b[0m\u001b[0mdst\u001b[0m\u001b[0;34m,\u001b[0m \u001b[0;34m'wb'\u001b[0m\u001b[0;34m)\u001b[0m \u001b[0;32mas\u001b[0m \u001b[0mfdst\u001b[0m\u001b[0;34m:\u001b[0m\u001b[0;34m\u001b[0m\u001b[0;34m\u001b[0m\u001b[0m\n\u001b[0m\u001b[1;32m    262\u001b[0m             \u001b[0;31m# macOS\u001b[0m\u001b[0;34m\u001b[0m\u001b[0;34m\u001b[0m\u001b[0;34m\u001b[0m\u001b[0m\n\u001b[1;32m    263\u001b[0m             \u001b[0;32mif\u001b[0m \u001b[0m_HAS_FCOPYFILE\u001b[0m\u001b[0;34m:\u001b[0m\u001b[0;34m\u001b[0m\u001b[0;34m\u001b[0m\u001b[0m\n",
      "\u001b[0;31mFileNotFoundError\u001b[0m: [Errno 2] No such file or directory: '/home/stluc/Data/BEN-ABOUD-09-MAR-2021/export/home1/sdc_image_pool/images/p837/e979/s20417/_s20417_Opt_DTI_4B_64_32_HB3_20210309151530_5__Eq_1.json'"
     ]
    }
   ],
   "source": [
    "# Path to dicom directory\n",
    "DICOM_FOLDER = r\"/home/stluc/Data/BEN-ABOUD-09-MAR-2021\"\n",
    "PATIENT_ID = None\n",
    "SESSION = None\n",
    "\n",
    "pat_id, session, dicom_series = bidshandler.convert_dicoms_to_bids(dicomfolder = DICOM_FOLDER, \n",
    "                                                                   pat_id      = PATIENT_ID,\n",
    "                                                                   session     = SESSION, \n",
    "                                                                   return_dicom_series=True)\n",
    "\n",
    "print(\"[INFO] Done\")"
   ]
  },
  {
   "cell_type": "code",
   "execution_count": 12,
   "metadata": {},
   "outputs": [
    {
     "name": "stdout",
     "output_type": "stream",
     "text": [
      "[INFO] Starting to convert ...\n",
      "SUBDIR: /home/stluc/Data/BEN-ABOUD-09-MAR-2021/export/home1/sdc_image_pool/images/p837/e979/s20414\tDIRS: []\n",
      "SUBDIR: /home/stluc/Data/BEN-ABOUD-09-MAR-2021/export/home1/sdc_image_pool/images/p837/e979/s20417\tDIRS: []\n",
      "SUBDIR: /home/stluc/Data/BEN-ABOUD-09-MAR-2021/export/home1/sdc_image_pool/images/p837/e979/s20425\tDIRS: []\n",
      "SUBDIR: /home/stluc/Data/BEN-ABOUD-09-MAR-2021/export/home1/sdc_image_pool/images/p837/e979/s20420\tDIRS: []\n",
      "SUBDIR: /home/stluc/Data/BEN-ABOUD-09-MAR-2021/export/home1/sdc_image_pool/images/p837/e979/s20415\tDIRS: []\n",
      "SUBDIR: /home/stluc/Data/BEN-ABOUD-09-MAR-2021/export/home1/sdc_image_pool/images/p837/e979/s20431\tDIRS: []\n",
      "SUBDIR: /home/stluc/Data/BEN-ABOUD-09-MAR-2021/export/home1/sdc_image_pool/images/p837/e979/s20424\tDIRS: []\n",
      "SUBDIR: /home/stluc/Data/BEN-ABOUD-09-MAR-2021/export/home1/sdc_image_pool/images/p837/e979/s20421\tDIRS: []\n",
      "SUBDIR: /home/stluc/Data/BEN-ABOUD-09-MAR-2021/export/home1/sdc_image_pool/images/p837/e979/s20422\tDIRS: []\n",
      "SUBDIR: /home/stluc/Data/BEN-ABOUD-09-MAR-2021/export/home1/sdc_image_pool/images/p837/e979/s20423\tDIRS: []\n",
      "SUBDIR: /home/stluc/Data/BEN-ABOUD-09-MAR-2021/export/home1/sdc_image_pool/images/p837/e979/s20419\tDIRS: []\n",
      "SUBDIR: /home/stluc/Data/BEN-ABOUD-09-MAR-2021/export/home1/sdc_image_pool/images/p837/e979/s20418\tDIRS: []\n",
      "SUBDIR: /home/stluc/Data/BEN-ABOUD-09-MAR-2021/export/home1/sdc_image_pool/images/p837/e979/s20427\tDIRS: []\n",
      "SUBDIR: /home/stluc/Data/BEN-ABOUD-09-MAR-2021/export/home1/sdc_image_pool/images/p837/e979/s20426\tDIRS: []\n",
      "SUBDIR: /home/stluc/Data/BEN-ABOUD-09-MAR-2021/export/home1/sdc_image_pool/images/p837/e979/s20428\tDIRS: []\n",
      "SUBDIR: /home/stluc/Data/BEN-ABOUD-09-MAR-2021/export/home1/sdc_image_pool/images/p837/e979/s20429\tDIRS: []\n",
      "SUBDIR: /home/stluc/Data/BEN-ABOUD-09-MAR-2021/export/home1/sdc_image_pool/images/p837/e979/s20416\tDIRS: []\n",
      "SUBDIR: /home/stluc/Data/BEN-ABOUD-09-MAR-2021/export/home1/sdc_image_pool/images/p837/e979/s20430\tDIRS: []\n",
      "[INFO] Converted dicom files to \u001b[1m18\u001b[0m compressed nifti\n"
     ]
    }
   ],
   "source": [
    "dicom_series = bidshandler.convert_all_dicoms(DICOM_FOLDER)"
   ]
  },
  {
   "cell_type": "code",
   "execution_count": 6,
   "metadata": {},
   "outputs": [],
   "source": [
    "bidshandler.delete_nii_json_in_dicomdir(dicom_series)"
   ]
  },
  {
   "cell_type": "markdown",
   "metadata": {},
   "source": [
    "## 4.Optional functionalities"
   ]
  },
  {
   "cell_type": "markdown",
   "metadata": {},
   "source": [
    "### 4.1. Delete subject"
   ]
  },
  {
   "cell_type": "code",
   "execution_count": null,
   "metadata": {},
   "outputs": [],
   "source": [
    "# Remove a patient from the database\n",
    "bidshandler.delete_subject(\"2097\")"
   ]
  },
  {
   "cell_type": "markdown",
   "metadata": {},
   "source": [
    "### 4.2. Delete session"
   ]
  },
  {
   "cell_type": "code",
   "execution_count": null,
   "metadata": {
    "scrolled": true
   },
   "outputs": [],
   "source": [
    "# Remove a particular session from a particular patient\n",
    "bidshandler.delete_session(\"026\", \"03\")"
   ]
  },
  {
   "cell_type": "markdown",
   "metadata": {},
   "source": [
    "### 4.3 Rename subject"
   ]
  },
  {
   "cell_type": "code",
   "execution_count": null,
   "metadata": {},
   "outputs": [],
   "source": [
    "# Rename a subject in the database\n",
    "bidshandler.rename_subject(old_id='1000',new_id='2000')"
   ]
  },
  {
   "cell_type": "markdown",
   "metadata": {},
   "source": [
    "## 5. Image processing tools"
   ]
  },
  {
   "cell_type": "markdown",
   "metadata": {},
   "source": [
    "### 5.1. Reorient an image"
   ]
  },
  {
   "cell_type": "code",
   "execution_count": null,
   "metadata": {},
   "outputs": [],
   "source": [
    "EPI_magnitude = 'acq-mag_T2star'\n",
    "EPI_phase = 'acq-phase_T2star'\n",
    "phase_wrapped = 'phase_WRAPPED'\n",
    "T2 = 'T2'\n",
    "T1 = 'T1'\n",
    "T1_Gd = 'T1w_Gd'\n",
    "FLAIRstar = 'acq-star_FLAIR'\n",
    "QSM = 'QSM'\n",
    "\n",
    "reorient(subject = '059', session = '02', \n",
    "         sequence_name = EPI_magnitude + '_matlab', \n",
    "         axis = 'z',\n",
    "         DIR=bids_dir)"
   ]
  },
  {
   "cell_type": "code",
   "execution_count": null,
   "metadata": {},
   "outputs": [],
   "source": [
    "##### CHANGE AFFINE ######\n",
    "replace_affine_or_header(path_to_img = \"/media/maggi/MS-PRL/MS-PRL/MS-PRL_Brussels/sub-059/ses-01/anat/sub-059_ses-01_acq-phase_T2star_UNWRAPPED.nii.gz\", \n",
    "                         path_to_target = \"/media/maggi/MS-PRL/MS-PRL/MS-PRL_Brussels/sub-137/ses-01/anat/sub-137_ses-01_acq-mag_T2star.nii.gz\", affine=True, header=False)\n",
    "\n",
    "\n",
    "### 4.5. Reorient phase image after docker unwrapping"
   ]
  },
  {
   "cell_type": "code",
   "execution_count": null,
   "metadata": {},
   "outputs": [],
   "source": [
    "### REORIENT THE UNWRAPPED PHASE IMAGE AFTER DOCKER UNWRAPPING ###\n",
    "phase_filename = \"/media/maggi/MS-PRL/MS-PRL/MS-PRL_Brussels/sub-059/ses-01/anat/sub-059_ses-01_acq-phase_T2star_UNWRAPPED.nii.gz\"\n",
    "t2star_filename = \"/media/maggi/MS-PRL/MS-PRL/MS-PRL_Brussels/sub-059/ses-01/anat/sub-059_ses-01_acq-mag_T2star.nii.gz\"\n",
    "\n",
    "reorient_phase_unwrapped(phase_filename, t2star_filename)"
   ]
  },
  {
   "cell_type": "code",
   "execution_count": null,
   "metadata": {},
   "outputs": [],
   "source": [
    "### REORIENT THE UNWRAPPED PHASE IMAGE AFTER DOCKER UNWRAPPING (second possibility) ###\n",
    "phase_filename = \"/media/maggi/MS-PRL/MS-PRL/MS-PRL_Brussels/sub-026/ses-01/anat/sub-026_ses-01_phase.nii.gz\"\n",
    "\n",
    "reorient_phase_unwrapped_2(phase_filename)"
   ]
  },
  {
   "cell_type": "markdown",
   "metadata": {},
   "source": [
    "### 5.2. Correct header for registration"
   ]
  },
  {
   "cell_type": "code",
   "execution_count": null,
   "metadata": {},
   "outputs": [],
   "source": [
    "### 4.6. Correct header for registration ###\n",
    "filename = \"/media/maggi/MS-PRL/MS-PRL/MS-PRL_Brussels/sub-058/ses-02/anat/sub-058_ses-02_acq-phase_T2star.nii.gz\"\n",
    "corr_header_for_registration(filename)"
   ]
  },
  {
   "cell_type": "markdown",
   "metadata": {},
   "source": [
    "### 5.3. Separate 4D image EPI"
   ]
  },
  {
   "cell_type": "code",
   "execution_count": null,
   "metadata": {},
   "outputs": [],
   "source": [
    "separate_epi(subject='126', session='01', \n",
    "             DIR=bids_dir)"
   ]
  },
  {
   "cell_type": "code",
   "execution_count": null,
   "metadata": {},
   "outputs": [],
   "source": []
  }
 ],
 "metadata": {
  "kernelspec": {
   "display_name": "Python 3",
   "language": "python",
   "name": "python3"
  },
  "language_info": {
   "codemirror_mode": {
    "name": "ipython",
    "version": 3
   },
   "file_extension": ".py",
   "mimetype": "text/x-python",
   "name": "python",
   "nbconvert_exporter": "python",
   "pygments_lexer": "ipython3",
   "version": "3.8.3"
  }
 },
 "nbformat": 4,
 "nbformat_minor": 5
}
