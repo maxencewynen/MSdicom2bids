{
 "cells": [
  {
   "cell_type": "markdown",
   "metadata": {},
   "source": [
    "# DICOM to BIDS converter"
   ]
  },
  {
   "cell_type": "markdown",
   "metadata": {},
   "source": [
    "Welcome to this DICOM to BIDS converter!\n",
    "\n",
    "This converter only handles the following MRI sequences:\n",
    "    - MPRAGE\n",
    "    - FLAIR\n",
    "    - EPI\n",
    "    - Phase\n",
    "    - Diffusion weighted imaging\n",
    "\n",
    "The converter should be used on dicom files coming directly out of the MR machine.\n",
    "\n",
    "#### /!\\ Important /!\\ : Run steps 1 and 2 before running anything else\n",
    "\n",
    "Author: Maxence Wynen -- maxencewynen@gmail.com"
   ]
  },
  {
   "cell_type": "markdown",
   "metadata": {},
   "source": [
    "## 1. Import dependencies"
   ]
  },
  {
   "cell_type": "code",
   "execution_count": 1,
   "metadata": {},
   "outputs": [
    {
     "name": "stdout",
     "output_type": "stream",
     "text": [
      "[INFO] Imports done\n"
     ]
    }
   ],
   "source": [
    "import os,sys,inspect\n",
    "current_dir = os.path.dirname(os.path.abspath(inspect.getfile(inspect.currentframe())))\n",
    "parent_dir = os.path.dirname(current_dir)\n",
    "sys.path.insert(0, parent_dir) \n",
    "from dicom2bids import *\n",
    "from change_orientation import *\n",
    "print(\"[INFO] Imports done\")\n",
    "#\"C:/Users/maxen/OneDrive/Bureau/UCLouvain/Q14/WSBIM2243/project/WSBIM2243/database\"\n",
    "# Path to dcm2niix.exe converter -- Only for windows(Comment for unix/macOS users) \n",
    "dicom2niix_path = \"dcm2niix\" \n",
    "# dicom2niix_path = \"C:/Users/maxen/OneDrive/Bureau/UCLouvain/Q14/WSBIM2243/project/dcm2niix.exe\" # Uncomment for Windows"
   ]
  },
  {
   "cell_type": "markdown",
   "metadata": {},
   "source": [
    "## 2. Set paths"
   ]
  },
  {
   "cell_type": "code",
   "execution_count": 4,
   "metadata": {},
   "outputs": [],
   "source": [
    "# Output BIDS directory. Should previously be created.\n",
    "bids_dir = \"/home/maggi/Downloads/BIDS_TEMPLATE/\"\n"
   ]
  },
  {
   "cell_type": "markdown",
   "metadata": {},
   "source": [
    "## 3. Automatically import a DICOM directory into a BIDS format"
   ]
  },
  {
   "cell_type": "code",
   "execution_count": 6,
   "metadata": {},
   "outputs": [
    {
     "name": "stdout",
     "output_type": "stream",
     "text": [
      "[INFO] Starting to convert ...\n",
      "SUBDIR: /media/maggi/Elements/DISSECT_MS_DATABASE/sub-006/ses-01/anat/DICOM/DICOM/Brussel_-_Hopital_Erasme_-_3971583901/DICOM\tDIRS: []\n",
      "SUBDIR: /media/maggi/Elements/DISSECT_MS_DATABASE/sub-006/ses-01/anat/DICOM/EPI\tDIRS: []\n",
      "[INFO] Converted all dicom files to compressed nifti\n",
      "None\n",
      "DICOM series not recognized: TOF4CDI0.8mmS3\n",
      "Path: /media/maggi/Elements/DISSECT_MS_DATABASE/sub-006/ses-01/anat/DICOM/DICOM/Brussel_-_Hopital_Erasme_-_3971583901/DICOM\n",
      "SERIES: TOF4CDI0.8mmS3\n",
      "   Filenames: ['_DICOM_AXIALES_FLAIR_20190129105856_802_', '_DICOM_CORO_FLAIR_20190129105856_803_', '_DICOM_CORO_FLAIR_20190129105856_804_', '_DICOM_dADC_epi_20190129105856_402_', '_DICOM_MIP_WIP_TOF4CDI0.8mmS3_SENSE_20190129105856_502__i00001', '_DICOM_MIP_WIP_TOF4CDI0.8mmS3_SENSE_20190129105856_502__i00002', '_DICOM_MIP_WIP_TOF4CDI0.8mmS3_SENSE_20190129105856_502__i00003', '_DICOM_VWIP_Advanced_sweep_SENSE_20190129105856_602_', '_DICOM_VWIP_Advanced_sweep_SENSE_20190129105856_603_', '_DICOM_WIP_Survey_20190129105856_101__i00007', '_DICOM_VWIP_Advanced_sweep_SENSE_20190129105856_604_', '_DICOM_VWIP_Advanced_sweep_SENSE_20190129105856_902_', '_DICOM_VWIP_Advanced_sweep_SENSE_20190129105856_903_', '_DICOM_VWIP_Advanced_sweep_SENSE_20190129105856_904_', '_DICOM_WIP_Black_BloodGd_SENSE_20190129105856_901_', '_DICOM_WIP_Black_Blood_SENSE_20190129105856_601_', '_DICOM_WIP_DWI-epiS3_SENSE_20190129105856_401_', '_DICOM_WIP_FLAIR_VISTA_SENSE_20190129105856_801_', '_DICOM_WIP_Survey_20190129105856_101__i00001', '_DICOM_WIP_Survey_20190129105856_101__i00004', '_DICOM_WIP_SWI_EPI_cf_info_SENSE_20190129105856_701_', '_DICOM_WIP_SWI_EPI_cf_info_SENSE_20190129105856_701__ph', '_DICOM_WIP_T1W_FFE_gd_CLEAR_20190129105856_1001_', '_DICOM_WIP_T2optSNR_CLEAR_20190129105856_301_', '_DICOM_WIP_TOF4CDI0.8mmS3_SENSE_20190129105856_501_']\n",
      "   RENAME: None\n",
      "\n",
      "\n",
      "['acq-mag_T2star']\n",
      "SERIES: SWI_EPI cf info\n",
      "   Filenames: ['_EPI_WIP_SWI_EPI_cf_info_SENSE_20190129105856_701_', '_EPI_WIP_SWI_EPI_cf_info_SENSE_20190129105856_701__ph']\n",
      "   RENAME: ['acq-mag_T2star']\n",
      "\n",
      "\n",
      "[INFO] Done\n"
     ]
    }
   ],
   "source": [
    "# Path to dicom directory\n",
    "directory = \"/media/maggi/Elements/DISSECT_MS_DATABASE/sub-006/ses-01/anat/DICOM\"\n",
    "# Convert all DICOMs\n",
    "dicom_series = convert_all_dicoms(directory, dicom2niix_path)\n",
    "\n",
    "# Create directories in the BIDS file structure by giving an incremental id\n",
    "# pat_id, session = make_directories(bids_dir,pat_id=None,session=None)\n",
    "# To specify the patient id:\n",
    "pat_id, session = make_directories(bids_dir,pat_id='200',session='01')\n",
    "# To specify the patient id and session:\n",
    "# pat_id, session = make_directories(bids_dir,pat_id='ID_TO_SPECIFY',session='SESSION_TO_SPECIFY')\n",
    "\n",
    "# Rename and move all (interesting) converted files into the bids directory\n",
    "rename_and_move_nifti(dicom_series, bids_dir, pat_id, session)\n",
    "\n",
    "print(\"[INFO] Done\")"
   ]
  },
  {
   "cell_type": "code",
   "execution_count": 5,
   "metadata": {},
   "outputs": [],
   "source": [
    "delete_nii_json_in_dicomdir(dicom_series)"
   ]
  },
  {
   "cell_type": "markdown",
   "metadata": {},
   "source": [
    "## 4.Optional functionalities"
   ]
  },
  {
   "cell_type": "markdown",
   "metadata": {},
   "source": [
    "### 4.1. Delete subject"
   ]
  },
  {
   "cell_type": "code",
   "execution_count": 11,
   "metadata": {},
   "outputs": [],
   "source": [
    "# Remove a patient from the database\n",
    "delete_subject(bids_dir, \"2097\")"
   ]
  },
  {
   "cell_type": "markdown",
   "metadata": {},
   "source": [
    "### 4.2. Delete session"
   ]
  },
  {
   "cell_type": "code",
   "execution_count": 5,
   "metadata": {
    "scrolled": true
   },
   "outputs": [
    {
     "name": "stdout",
     "output_type": "stream",
     "text": [
      "/media/maggi/Elements/BACKUP/DISSECT_MS_DATABASE\n"
     ]
    }
   ],
   "source": [
    "# Remove a particular session from a particular patient\n",
    "delete_session(bids_dir, \"026\", \"03\")\n",
    "print(bids_dir)"
   ]
  },
  {
   "cell_type": "markdown",
   "metadata": {},
   "source": [
    "### 4.3 Rename subject"
   ]
  },
  {
   "cell_type": "code",
   "execution_count": 10,
   "metadata": {},
   "outputs": [
    {
     "ename": "FileNotFoundError",
     "evalue": "Subject 1000 is not in the database.",
     "output_type": "error",
     "traceback": [
      "\u001b[1;31m---------------------------------------------------------------------------\u001b[0m",
      "\u001b[1;31mFileNotFoundError\u001b[0m                         Traceback (most recent call last)",
      "\u001b[1;32m<ipython-input-10-0295806c0633>\u001b[0m in \u001b[0;36m<module>\u001b[1;34m\u001b[0m\n\u001b[0;32m      1\u001b[0m \u001b[1;31m# Rename a subject in the database\u001b[0m\u001b[1;33m\u001b[0m\u001b[1;33m\u001b[0m\u001b[1;33m\u001b[0m\u001b[0m\n\u001b[1;32m----> 2\u001b[1;33m \u001b[0mrename_subject\u001b[0m\u001b[1;33m(\u001b[0m\u001b[0mbids_dir\u001b[0m\u001b[1;33m,\u001b[0m \u001b[0mold_id\u001b[0m\u001b[1;33m=\u001b[0m\u001b[1;34m'1000'\u001b[0m\u001b[1;33m,\u001b[0m\u001b[0mnew_id\u001b[0m\u001b[1;33m=\u001b[0m\u001b[1;34m'2000'\u001b[0m\u001b[1;33m)\u001b[0m\u001b[1;33m\u001b[0m\u001b[1;33m\u001b[0m\u001b[0m\n\u001b[0m",
      "\u001b[1;32m~\\OneDrive\\Bureau\\UCLouvain\\MSdicom2bids\\MSdicom2bids\\dicom2bids.py\u001b[0m in \u001b[0;36mrename_subject\u001b[1;34m(bids_dir, old_id, new_id)\u001b[0m\n\u001b[0;32m    352\u001b[0m         \u001b[1;32mraise\u001b[0m \u001b[0mFileExistsError\u001b[0m\u001b[1;33m(\u001b[0m\u001b[1;34mf\"Subject {new_id} already exists in the database. Delete the subject first or choose another subject id.\"\u001b[0m\u001b[1;33m)\u001b[0m\u001b[1;33m\u001b[0m\u001b[1;33m\u001b[0m\u001b[0m\n\u001b[0;32m    353\u001b[0m     \u001b[1;32mif\u001b[0m \u001b[1;32mnot\u001b[0m \u001b[0mos\u001b[0m\u001b[1;33m.\u001b[0m\u001b[0mpath\u001b[0m\u001b[1;33m.\u001b[0m\u001b[0mexists\u001b[0m\u001b[1;33m(\u001b[0m\u001b[0mos\u001b[0m\u001b[1;33m.\u001b[0m\u001b[0mpath\u001b[0m\u001b[1;33m.\u001b[0m\u001b[0mjoin\u001b[0m\u001b[1;33m(\u001b[0m\u001b[0mbids_dir\u001b[0m\u001b[1;33m,\u001b[0m \u001b[1;34mf'sub-{old_id}'\u001b[0m\u001b[1;33m)\u001b[0m\u001b[1;33m)\u001b[0m\u001b[1;33m:\u001b[0m\u001b[1;33m\u001b[0m\u001b[1;33m\u001b[0m\u001b[0m\n\u001b[1;32m--> 354\u001b[1;33m         \u001b[1;32mraise\u001b[0m \u001b[0mFileNotFoundError\u001b[0m\u001b[1;33m(\u001b[0m\u001b[1;34mf\"Subject {old_id} is not in the database.\"\u001b[0m\u001b[1;33m)\u001b[0m\u001b[1;33m\u001b[0m\u001b[1;33m\u001b[0m\u001b[0m\n\u001b[0m\u001b[0;32m    355\u001b[0m \u001b[1;33m\u001b[0m\u001b[0m\n\u001b[0;32m    356\u001b[0m     \u001b[0msubject_dir\u001b[0m \u001b[1;33m=\u001b[0m \u001b[0mos\u001b[0m\u001b[1;33m.\u001b[0m\u001b[0mpath\u001b[0m\u001b[1;33m.\u001b[0m\u001b[0mjoin\u001b[0m\u001b[1;33m(\u001b[0m\u001b[0mbids_dir\u001b[0m\u001b[1;33m,\u001b[0m \u001b[1;34mf\"sub-{old_id}\"\u001b[0m\u001b[1;33m)\u001b[0m\u001b[1;33m\u001b[0m\u001b[1;33m\u001b[0m\u001b[0m\n",
      "\u001b[1;31mFileNotFoundError\u001b[0m: Subject 1000 is not in the database."
     ]
    }
   ],
   "source": [
    "# Rename a subject in the database\n",
    "rename_subject(bids_dir, old_id='1000',new_id='2000')"
   ]
  },
  {
   "cell_type": "markdown",
   "metadata": {},
   "source": [
    "### 4.4. Reorient an image"
   ]
  },
  {
   "cell_type": "code",
   "execution_count": 5,
   "metadata": {},
   "outputs": [],
   "source": [
    "EPI_magnitude = 'acq-mag_T2star'\n",
    "EPI_phase = 'acq-phase_T2star'\n",
    "phase_wrapped = 'phase_WRAPPED'\n",
    "T2 = 'T2'\n",
    "T1 = 'T1'\n",
    "T1_Gd = 'T1w_Gd'\n",
    "FLAIRstar = 'acq-star_FLAIR'\n",
    "QSM = 'QSM'\n",
    "\n",
    "reorient(subject = '026', session = '02', \n",
    "         sequence_name = QSM + '_matlab', \n",
    "         axis = 'z',\n",
    "         DIR=bids_dir)"
   ]
  },
  {
   "cell_type": "code",
   "execution_count": 34,
   "metadata": {},
   "outputs": [
    {
     "name": "stdout",
     "output_type": "stream",
     "text": [
      "026 01\n",
      "026 02\n",
      "027 01\n",
      "027 02\n",
      "028 01\n",
      "028 02\n",
      "029 01\n",
      "029 02\n",
      "030 01\n",
      "030 02\n",
      "031 01\n",
      "031 02\n",
      "032 01\n",
      "033 01\n",
      "033 02\n",
      "034 01\n",
      "034 02\n",
      "035 01\n",
      "035 02\n",
      "035 03\n",
      "036 01\n",
      "036 02\n",
      "036 03\n",
      "037 01\n",
      "037 02\n",
      "038 02\n",
      "039 01\n",
      "040 01\n",
      "040 02\n",
      "041 01\n",
      "041 02\n",
      "042 01\n",
      "042 02\n",
      "043 01\n",
      "043 02\n"
     ]
    }
   ],
   "source": [
    "import shutil\n",
    "for sub in range(26,44):\n",
    "    sub = str(sub).zfill(3)\n",
    "    for ses in range(1,6):\n",
    "        ses = str(ses).zfill(2)\n",
    "        if not os.path.exists(os.path.join(bids_dir, f'sub-{sub}', f'ses-{ses}', 'anat', f'sub-{sub}_ses-{ses}_QSM_orig.nii.gz')):\n",
    "            continue\n",
    "        print(sub, ses)\n",
    "        \"\"\"\n",
    "        root = os.path.join(bids_dir, f'sub-{sub}', f'ses-{ses}', 'anat') \n",
    "        os.remove(os.path.join(root, f'sub-{sub}_ses-{ses}_QSM_orig.nii.gz'))\n",
    "        os.remove(os.path.join(root, f'sub-{sub}_ses-{ses}_'+ EPI_magnitude + '_orig.nii.gz'))\n",
    "        os.remove(os.path.join(root, f'sub-{sub}_ses-{ses}_'+ EPI_phase + '_orig.nii.gz'))\n",
    "        \n",
    "        shutil.move(os.path.join(root, f'sub-{sub}_ses-{ses}_QSM_orig_z.nii.gz'), \n",
    "                    os.path.join(root, f'sub-{sub}_ses-{ses}_QSM_orig.nii.gz'))\n",
    "        shutil.move(os.path.join(root, f'sub-{sub}_ses-{ses}_'+ EPI_magnitude + '_orig_z.nii.gz'),\n",
    "                   os.path.join(root, f'sub-{sub}_ses-{ses}_'+ EPI_magnitude + '_orig.nii.gz'))\n",
    "        shutil.move(os.path.join(root, f'sub-{sub}_ses-{ses}_'+ EPI_phase + '_orig_z.nii.gz'),\n",
    "                   os.path.join(root, f'sub-{sub}_ses-{ses}_'+ EPI_phase + '_orig.nii.gz'))\n",
    "        \n",
    "        \n",
    "        reorient(subject = sub, session = ses, \n",
    "                 sequence_name = QSM + '_orig', \n",
    "                 axis = 'z',\n",
    "                 DIR=bids_dir)\n",
    "        reorient(subject = sub, session = ses, \n",
    "                 sequence_name = EPI_magnitude + '_orig', \n",
    "                 axis = 'z',\n",
    "                 DIR=bids_dir)\n",
    "        reorient(subject = sub, session = ses, \n",
    "                 sequence_name = EPI_phase + '_orig', \n",
    "                 axis = 'z',\n",
    "                 DIR=bids_dir)\n",
    "        \"\"\""
   ]
  },
  {
   "cell_type": "code",
   "execution_count": null,
   "metadata": {},
   "outputs": [],
   "source": []
  }
 ],
 "metadata": {
  "kernelspec": {
   "display_name": "Python 3",
   "language": "python",
   "name": "python3"
  },
  "language_info": {
   "codemirror_mode": {
    "name": "ipython",
    "version": 3
   },
   "file_extension": ".py",
   "mimetype": "text/x-python",
   "name": "python",
   "nbconvert_exporter": "python",
   "pygments_lexer": "ipython3",
   "version": "3.8.5"
  }
 },
 "nbformat": 4,
 "nbformat_minor": 5
}
