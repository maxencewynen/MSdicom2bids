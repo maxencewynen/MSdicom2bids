{
 "cells": [
  {
   "cell_type": "markdown",
   "id": "hairy-warehouse",
   "metadata": {},
   "source": [
    "# DICOM to BIDS converter"
   ]
  },
  {
   "cell_type": "markdown",
   "id": "ecological-ivory",
   "metadata": {},
   "source": [
    "Welcome to this DICOM to BIDS converter!\n",
    "\n",
    "This converter only handles the following MRI sequences:\n",
    "    - MPRAGE\n",
    "    - FLAIR\n",
    "    - EPI\n",
    "    - Phase\n",
    "    - Diffusion weighted imaging\n",
    "\n",
    "The converter should be used on dicom files coming directly out of the MR machine.\n",
    "\n",
    "#### /!\\ Important /!\\ : Run steps 1 and 2 before running anything else\n",
    "\n",
    "Author: Maxence Wynen -- maxencewynen@gmail.com"
   ]
  },
  {
   "cell_type": "markdown",
   "id": "novel-exercise",
   "metadata": {},
   "source": [
    "## 1. Import dependencies"
   ]
  },
  {
   "cell_type": "code",
   "execution_count": 11,
   "id": "north-radar",
   "metadata": {},
   "outputs": [
    {
     "name": "stdout",
     "output_type": "stream",
     "text": [
      "[INFO] Imports done\n"
     ]
    }
   ],
   "source": [
    "import os,sys,inspect\n",
    "current_dir = os.path.dirname(os.path.abspath(inspect.getfile(inspect.currentframe())))\n",
    "parent_dir = os.path.dirname(current_dir)\n",
    "sys.path.insert(0, parent_dir) \n",
    "from dicom2bids import *\n",
    "from change_orientation import *\n",
    "print(\"[INFO] Imports done\")"
   ]
  },
  {
   "cell_type": "markdown",
   "id": "subject-slovenia",
   "metadata": {},
   "source": [
    "## 2. Set paths"
   ]
  },
  {
   "cell_type": "code",
   "execution_count": 2,
   "id": "behind-basics",
   "metadata": {},
   "outputs": [],
   "source": [
    "# Output BIDS directory. Should previously be created.\n",
    "bids_dir = \"E:\\DISSECT_MS_DATABASE\"#\"C:/Users/maxen/OneDrive/Bureau/UCLouvain/Q14/WSBIM2243/project/WSBIM2243/database\"\n",
    "# Path to dcm2niix.exe converter -- Only for windows(Comment for unix/macOS users) \n",
    "dicom2niix_path = \"dicom2niix\" \n",
    "dicom2niix_path = \"C:/Users/maxen/OneDrive/Bureau/UCLouvain/Q14/WSBIM2243/project/dcm2niix.exe\" # Uncomment for Windows"
   ]
  },
  {
   "cell_type": "markdown",
   "id": "aboriginal-median",
   "metadata": {},
   "source": [
    "## 3. Automatically import a DICOM directory into a BIDS format"
   ]
  },
  {
   "cell_type": "code",
   "execution_count": 7,
   "id": "equal-weight",
   "metadata": {},
   "outputs": [
    {
     "name": "stdout",
     "output_type": "stream",
     "text": [
      "[INFO] Starting to convert ...\n",
      "SUBDIR: E:\\DICOMS_TO_COMPLETE_DB\\Calli\\Calli\\302UYPEZ\\2VILRAZN\tDIRS: []\n",
      "SUBDIR: E:\\DICOMS_TO_COMPLETE_DB\\Calli\\Calli\\302UYPEZ\\4VAJGASA\tDIRS: []\n",
      "SUBDIR: E:\\DICOMS_TO_COMPLETE_DB\\Calli\\Calli\\302UYPEZ\\JHE4BG2N\tDIRS: []\n",
      "SUBDIR: E:\\DICOMS_TO_COMPLETE_DB\\Calli\\Calli\\302UYPEZ\\JHY3MR0F\tDIRS: []\n",
      "SUBDIR: E:\\DICOMS_TO_COMPLETE_DB\\Calli\\Calli\\302UYPEZ\\KVGLRB0P\tDIRS: []\n",
      "SUBDIR: E:\\DICOMS_TO_COMPLETE_DB\\Calli\\Calli\\302UYPEZ\\LGP0QLOP\tDIRS: []\n",
      "SUBDIR: E:\\DICOMS_TO_COMPLETE_DB\\Calli\\Calli\\302UYPEZ\\OORGPGCP\tDIRS: []\n",
      "SUBDIR: E:\\DICOMS_TO_COMPLETE_DB\\Calli\\Calli\\302UYPEZ\\OVSJNSQL\tDIRS: []\n",
      "SUBDIR: E:\\DICOMS_TO_COMPLETE_DB\\Calli\\Calli\\302UYPEZ\\OWTHRCSP\tDIRS: []\n",
      "SUBDIR: E:\\DICOMS_TO_COMPLETE_DB\\Calli\\Calli\\302UYPEZ\\PHO3BV5K\tDIRS: []\n",
      "SUBDIR: E:\\DICOMS_TO_COMPLETE_DB\\Calli\\Calli\\302UYPEZ\\RH44EWSO\tDIRS: []\n",
      "SUBDIR: E:\\DICOMS_TO_COMPLETE_DB\\Calli\\Calli\\302UYPEZ\\T3F1NXAP\tDIRS: []\n",
      "SUBDIR: E:\\DICOMS_TO_COMPLETE_DB\\Calli\\Calli\\302UYPEZ\\THE2MVUG\tDIRS: []\n",
      "SUBDIR: E:\\DICOMS_TO_COMPLETE_DB\\Calli\\Calli\\302UYPEZ\\THI33XUP\tDIRS: []\n",
      "SUBDIR: E:\\DICOMS_TO_COMPLETE_DB\\Calli\\Calli\\302UYPEZ\\THN1PECN\tDIRS: []\n",
      "SUBDIR: E:\\DICOMS_TO_COMPLETE_DB\\Calli\\Calli\\302UYPEZ\\UHL0FTMN\tDIRS: []\n",
      "SUBDIR: E:\\DICOMS_TO_COMPLETE_DB\\Calli\\Calli\\302UYPEZ\\W0TNJLSP\tDIRS: []\n",
      "[INFO] Converted all dicom files to compressed nifti\n",
      "None\n",
      "DICOM series not recognized: 3D_EPI_Sag 1.5mm\n",
      "Path: E:/DICOMS_TO_COMPLETE_DB/Calli/Calli/302UYPEZ/2VILRAZN\n",
      "SERIES: 3D_EPI_Sag 1.5mm\n",
      "   Filenames: ['_2VILRAZN_3D_EPI_Sag_1.5mm_20191030145704_204_']\n",
      "   RENAME: None\n",
      "\n",
      "\n",
      "None\n",
      "DICOM series not recognized: 3D_EPI_Cor 1.5mm\n",
      "Path: E:/DICOMS_TO_COMPLETE_DB/Calli/Calli/302UYPEZ/4VAJGASA\n",
      "SERIES: 3D_EPI_Cor 1.5mm\n",
      "   Filenames: ['_4VAJGASA_3D_EPI_Cor_1.5mm_20191030145704_205_']\n",
      "   RENAME: None\n",
      "\n",
      "\n",
      "None\n",
      "DICOM series not recognized: sDIFFUSION B1000\n",
      "Path: E:/DICOMS_TO_COMPLETE_DB/Calli/Calli/302UYPEZ/JHE4BG2N\n",
      "SERIES: sDIFFUSION B1000\n",
      "   Filenames: ['_JHE4BG2N_sDIFFUSION_B1000_20191030145704_304_']\n",
      "   RENAME: None\n",
      "\n",
      "\n",
      "['FLAIR']\n",
      "SERIES: V3D FLAIR\n",
      "   Filenames: ['_JHY3MR0F_V3D_FLAIR_20191030145704_602_']\n",
      "   RENAME: ['FLAIR']\n",
      "\n",
      "\n",
      "None\n",
      "DICOM series not recognized: dADC\n",
      "Path: E:/DICOMS_TO_COMPLETE_DB/Calli/Calli/302UYPEZ/KVGLRB0P\n",
      "SERIES: dADC\n",
      "   Filenames: ['_KVGLRB0P_dADC_20191030145704_305_']\n",
      "   RENAME: None\n",
      "\n",
      "\n",
      "None\n",
      "DICOM series not recognized: DIFFUSION\n",
      "Path: E:/DICOMS_TO_COMPLETE_DB/Calli/Calli/302UYPEZ/LGP0QLOP\n",
      "SERIES: DIFFUSION\n",
      "   Filenames: ['_LGP0QLOP_DIFFUSION_20191030145704_301_']\n",
      "   RENAME: None\n",
      "\n",
      "\n",
      "None\n",
      "DICOM series not recognized: T2dr-Sense-3mm\n",
      "Path: E:/DICOMS_TO_COMPLETE_DB/Calli/Calli/302UYPEZ/OORGPGCP\n",
      "SERIES: T2dr-Sense-3mm\n",
      "   Filenames: ['_OORGPGCP_T2dr-Sense-3mm_20191030145704_501_']\n",
      "   RENAME: None\n",
      "\n",
      "\n",
      "None\n",
      "DICOM series not recognized: sDIFFUSION B0\n",
      "Path: E:/DICOMS_TO_COMPLETE_DB/Calli/Calli/302UYPEZ/OVSJNSQL\n",
      "SERIES: sDIFFUSION B0\n",
      "   Filenames: ['_OVSJNSQL_sDIFFUSION_B0_20191030145704_303_']\n",
      "   RENAME: None\n",
      "\n",
      "\n",
      "None\n",
      "DICOM series not recognized: 3D T1 FFE\n",
      "Path: E:/DICOMS_TO_COMPLETE_DB/Calli/Calli/302UYPEZ/OWTHRCSP\n",
      "SERIES: 3D T1 FFE\n",
      "   Filenames: ['_OWTHRCSP_3D_T1_FFE_20191030145704_401_']\n",
      "   RENAME: None\n",
      "\n",
      "\n",
      "None\n",
      "DICOM series not recognized: 3D_EPI_Tra 1.5mm\n",
      "Path: E:/DICOMS_TO_COMPLETE_DB/Calli/Calli/302UYPEZ/PHO3BV5K\n",
      "SERIES: 3D_EPI_Tra 1.5mm\n",
      "   Filenames: ['_PHO3BV5K_3D_EPI_Tra_1.5mm_20191030145704_206_']\n",
      "   RENAME: None\n",
      "\n",
      "\n",
      "None\n",
      "DICOM series not recognized: 3D_EPI_Coro\n",
      "Path: E:/DICOMS_TO_COMPLETE_DB/Calli/Calli/302UYPEZ/RH44EWSO\n",
      "SERIES: 3D_EPI_Coro\n",
      "   Filenames: ['_RH44EWSO_3D_EPI_Coro_20191030145704_202_']\n",
      "   RENAME: None\n",
      "\n",
      "\n",
      "None\n",
      "DICOM series not recognized: T2 FFE CLEAR\n",
      "Path: E:/DICOMS_TO_COMPLETE_DB/Calli/Calli/302UYPEZ/T3F1NXAP\n",
      "SERIES: T2 FFE CLEAR\n",
      "   Filenames: ['_T3F1NXAP_T2_FFE_CLEAR_20191030145704_701_']\n",
      "   RENAME: None\n",
      "\n",
      "\n",
      "None\n",
      "DICOM series not recognized: 3D_EPI_Tra\n",
      "Path: E:/DICOMS_TO_COMPLETE_DB/Calli/Calli/302UYPEZ/THE2MVUG\n",
      "SERIES: 3D_EPI_Tra\n",
      "   Filenames: ['_THE2MVUG_3D_EPI_Tra_20191030145704_203_']\n",
      "   RENAME: None\n",
      "\n",
      "\n",
      "None\n",
      "DICOM series not recognized: Reg - DIFFUSION SENSE\n",
      "Path: E:/DICOMS_TO_COMPLETE_DB/Calli/Calli/302UYPEZ/THI33XUP\n",
      "SERIES: Reg - DIFFUSION SENSE\n",
      "   Filenames: ['_THI33XUP_Reg_-_DIFFUSION_SENSE_20191030145704_302_']\n",
      "   RENAME: None\n",
      "\n",
      "\n",
      "None\n",
      "DICOM series not recognized: 3D_EPI_Sag 0.55\n",
      "Path: E:/DICOMS_TO_COMPLETE_DB/Calli/Calli/302UYPEZ/THN1PECN\n",
      "SERIES: 3D_EPI_Sag 0.55\n",
      "   Filenames: ['_THN1PECN_WIP_3D_EPI_Sag_0.55_20191030145704_201_']\n",
      "   RENAME: None\n",
      "\n",
      "\n",
      "None\n",
      "DICOM series not recognized: SCOUT SENSE\n",
      "Path: E:/DICOMS_TO_COMPLETE_DB/Calli/Calli/302UYPEZ/UHL0FTMN\n",
      "SERIES: SCOUT SENSE\n",
      "   Filenames: ['_UHL0FTMN_SCOUT_SENSE_20191030145704_101__i00001', '_UHL0FTMN_SCOUT_SENSE_20191030145704_101__i00006', '_UHL0FTMN_SCOUT_SENSE_20191030145704_101__i00009']\n",
      "   RENAME: None\n",
      "\n",
      "\n",
      "['FLAIR']\n",
      "SERIES: 3D-FLAIR-Vista\n",
      "   Filenames: ['_W0TNJLSP_3D-FLAIR-Vista_20191030145704_601_']\n",
      "   RENAME: ['FLAIR']\n",
      "\n",
      "\n",
      "[INFO] Done\n"
     ]
    }
   ],
   "source": [
    "# Path to dicom directory\n",
    "directory = \"E:\\DICOMS_TO_COMPLETE_DB\\MICCICHE\"\n",
    "\n",
    "# Convert all DICOMs\n",
    "dicom_series = convert_all_dicoms(directory, dicom2niix_path)\n",
    "\n",
    "# Create directories in the BIDS file structure by giving an incremental id\n",
    "# pat_id, session = make_directories(bids_dir,pat_id=None,session=None)\n",
    "# To specify the patient id:\n",
    "pat_id, session = make_directories(bids_dir,pat_id='107',session='01')\n",
    "# To specify the patient id and session:\n",
    "# pat_id, session = make_directories(bids_dir,pat_id='ID_TO_SPECIFY',session='SESSION_TO_SPECIFY')\n",
    "\n",
    "# Rename and move all (interesting) converted files into the bids directory\n",
    "rename_and_move_nifti(dicom_series, bids_dir, pat_id, session)\n",
    "\n",
    "print(\"[INFO] Done\")"
   ]
  },
  {
   "cell_type": "code",
   "execution_count": 4,
   "id": "offshore-vulnerability",
   "metadata": {},
   "outputs": [],
   "source": [
    "delete_nii_json_in_dicomdir(dicom_series)"
   ]
  },
  {
   "cell_type": "markdown",
   "id": "laughing-assault",
   "metadata": {},
   "source": [
    "## 4.Optional functionalities"
   ]
  },
  {
   "cell_type": "markdown",
   "id": "ordinary-madison",
   "metadata": {},
   "source": [
    "### 4.1. Delete subject"
   ]
  },
  {
   "cell_type": "code",
   "execution_count": 8,
   "id": "intellectual-david",
   "metadata": {},
   "outputs": [
    {
     "name": "stdout",
     "output_type": "stream",
     "text": [
      "[Exception caught] Cannot remove directory that does not exists\n",
      "[Exception caught] Cannot remove directory that does not exists\n",
      "[Exception caught] Cannot remove directory that does not exists\n",
      "[Exception caught] Cannot remove directory that does not exists\n",
      "[Exception caught] Cannot remove directory that does not exists\n"
     ]
    }
   ],
   "source": [
    "# Remove a patient from the database\n",
    "delete_subject(bids_dir, \"1000\")"
   ]
  },
  {
   "cell_type": "markdown",
   "id": "grave-sympathy",
   "metadata": {},
   "source": [
    "### 4.2. Delete session"
   ]
  },
  {
   "cell_type": "code",
   "execution_count": 9,
   "id": "medieval-reviewer",
   "metadata": {},
   "outputs": [
    {
     "name": "stdout",
     "output_type": "stream",
     "text": [
      "[Exception caught] Cannot remove directory that does not exists\n",
      "[Exception caught] Cannot remove directory that does not exists\n",
      "[Exception caught] Cannot remove directory that does not exists\n",
      "[Exception caught] Cannot remove directory that does not exists\n"
     ]
    }
   ],
   "source": [
    "# Remove a particular session from a particular patient\n",
    "delete_session(bids_dir, \"1000\", \"02\")"
   ]
  },
  {
   "cell_type": "markdown",
   "id": "sensitive-planning",
   "metadata": {},
   "source": [
    "### 4.3 Rename subject"
   ]
  },
  {
   "cell_type": "code",
   "execution_count": 10,
   "id": "desirable-delay",
   "metadata": {},
   "outputs": [
    {
     "ename": "FileNotFoundError",
     "evalue": "Subject 1000 is not in the database.",
     "output_type": "error",
     "traceback": [
      "\u001b[1;31m---------------------------------------------------------------------------\u001b[0m",
      "\u001b[1;31mFileNotFoundError\u001b[0m                         Traceback (most recent call last)",
      "\u001b[1;32m<ipython-input-10-0295806c0633>\u001b[0m in \u001b[0;36m<module>\u001b[1;34m\u001b[0m\n\u001b[0;32m      1\u001b[0m \u001b[1;31m# Rename a subject in the database\u001b[0m\u001b[1;33m\u001b[0m\u001b[1;33m\u001b[0m\u001b[1;33m\u001b[0m\u001b[0m\n\u001b[1;32m----> 2\u001b[1;33m \u001b[0mrename_subject\u001b[0m\u001b[1;33m(\u001b[0m\u001b[0mbids_dir\u001b[0m\u001b[1;33m,\u001b[0m \u001b[0mold_id\u001b[0m\u001b[1;33m=\u001b[0m\u001b[1;34m'1000'\u001b[0m\u001b[1;33m,\u001b[0m\u001b[0mnew_id\u001b[0m\u001b[1;33m=\u001b[0m\u001b[1;34m'2000'\u001b[0m\u001b[1;33m)\u001b[0m\u001b[1;33m\u001b[0m\u001b[1;33m\u001b[0m\u001b[0m\n\u001b[0m",
      "\u001b[1;32m~\\OneDrive\\Bureau\\UCLouvain\\MSdicom2bids\\MSdicom2bids\\dicom2bids.py\u001b[0m in \u001b[0;36mrename_subject\u001b[1;34m(bids_dir, old_id, new_id)\u001b[0m\n\u001b[0;32m    352\u001b[0m         \u001b[1;32mraise\u001b[0m \u001b[0mFileExistsError\u001b[0m\u001b[1;33m(\u001b[0m\u001b[1;34mf\"Subject {new_id} already exists in the database. Delete the subject first or choose another subject id.\"\u001b[0m\u001b[1;33m)\u001b[0m\u001b[1;33m\u001b[0m\u001b[1;33m\u001b[0m\u001b[0m\n\u001b[0;32m    353\u001b[0m     \u001b[1;32mif\u001b[0m \u001b[1;32mnot\u001b[0m \u001b[0mos\u001b[0m\u001b[1;33m.\u001b[0m\u001b[0mpath\u001b[0m\u001b[1;33m.\u001b[0m\u001b[0mexists\u001b[0m\u001b[1;33m(\u001b[0m\u001b[0mos\u001b[0m\u001b[1;33m.\u001b[0m\u001b[0mpath\u001b[0m\u001b[1;33m.\u001b[0m\u001b[0mjoin\u001b[0m\u001b[1;33m(\u001b[0m\u001b[0mbids_dir\u001b[0m\u001b[1;33m,\u001b[0m \u001b[1;34mf'sub-{old_id}'\u001b[0m\u001b[1;33m)\u001b[0m\u001b[1;33m)\u001b[0m\u001b[1;33m:\u001b[0m\u001b[1;33m\u001b[0m\u001b[1;33m\u001b[0m\u001b[0m\n\u001b[1;32m--> 354\u001b[1;33m         \u001b[1;32mraise\u001b[0m \u001b[0mFileNotFoundError\u001b[0m\u001b[1;33m(\u001b[0m\u001b[1;34mf\"Subject {old_id} is not in the database.\"\u001b[0m\u001b[1;33m)\u001b[0m\u001b[1;33m\u001b[0m\u001b[1;33m\u001b[0m\u001b[0m\n\u001b[0m\u001b[0;32m    355\u001b[0m \u001b[1;33m\u001b[0m\u001b[0m\n\u001b[0;32m    356\u001b[0m     \u001b[0msubject_dir\u001b[0m \u001b[1;33m=\u001b[0m \u001b[0mos\u001b[0m\u001b[1;33m.\u001b[0m\u001b[0mpath\u001b[0m\u001b[1;33m.\u001b[0m\u001b[0mjoin\u001b[0m\u001b[1;33m(\u001b[0m\u001b[0mbids_dir\u001b[0m\u001b[1;33m,\u001b[0m \u001b[1;34mf\"sub-{old_id}\"\u001b[0m\u001b[1;33m)\u001b[0m\u001b[1;33m\u001b[0m\u001b[1;33m\u001b[0m\u001b[0m\n",
      "\u001b[1;31mFileNotFoundError\u001b[0m: Subject 1000 is not in the database."
     ]
    }
   ],
   "source": [
    "# Rename a subject in the database\n",
    "rename_subject(bids_dir, old_id='1000',new_id='2000')"
   ]
  },
  {
   "cell_type": "markdown",
   "id": "colored-contents",
   "metadata": {},
   "source": [
    "### 4.4. Reorient an image"
   ]
  },
  {
   "cell_type": "code",
   "execution_count": 12,
   "id": "pointed-jamaica",
   "metadata": {},
   "outputs": [],
   "source": [
    "EPI_magnitude = 'acq-mag_T2star'\n",
    "EPI_phase = 'acq-phase_T2star'\n",
    "phase_wrapped = 'phase_WRAPPED'\n",
    "T2 = 'T2'\n",
    "T1 = 'T1'\n",
    "T1_Gd = 'T1w_Gd'\n",
    "FLAIRstar = 'acq-star_FLAIR'\n",
    "\n",
    "reorient('031','01', EPI_magnitude, 'x',DIR=bids_dir)"
   ]
  },
  {
   "cell_type": "code",
   "execution_count": null,
   "id": "hazardous-atlas",
   "metadata": {},
   "outputs": [],
   "source": []
  }
 ],
 "metadata": {
  "kernelspec": {
   "display_name": "Python 3",
   "language": "python",
   "name": "python3"
  },
  "language_info": {
   "codemirror_mode": {
    "name": "ipython",
    "version": 3
   },
   "file_extension": ".py",
   "mimetype": "text/x-python",
   "name": "python",
   "nbconvert_exporter": "python",
   "pygments_lexer": "ipython3",
   "version": "3.7.9"
  }
 },
 "nbformat": 4,
 "nbformat_minor": 5
}
