{
 "cells": [
  {
   "cell_type": "markdown",
   "id": "registered-rugby",
   "metadata": {},
   "source": [
    "# DICOM to BIDS converter"
   ]
  },
  {
   "cell_type": "markdown",
   "id": "norwegian-bruce",
   "metadata": {},
   "source": [
    "Welcome to this DICOM to BIDS converter!\n",
    "\n",
    "This converter only handles the following MRI sequences:\n",
    "    - MPRAGE\n",
    "    - FLAIR\n",
    "    - EPI\n",
    "    - Phase\n",
    "    - Diffusion weighted imaging\n",
    "\n",
    "The converter should be used on dicom files coming directly out of the MR machine.\n",
    "\n",
    "#### /!\\ Important /!\\ : Run steps 1 and 2 before running anything else\n",
    "\n",
    "Author: Maxence Wynen -- maxencewynen@gmail.com"
   ]
  },
  {
   "cell_type": "markdown",
   "id": "textile-anatomy",
   "metadata": {},
   "source": [
    "## 1. Import dependencies"
   ]
  },
  {
   "cell_type": "code",
   "execution_count": 10,
   "id": "parliamentary-korea",
   "metadata": {},
   "outputs": [
    {
     "name": "stdout",
     "output_type": "stream",
     "text": [
      "[INFO] Imports done\n"
     ]
    }
   ],
   "source": [
    "import os,sys,inspect\n",
    "current_dir = os.path.dirname(os.path.abspath(inspect.getfile(inspect.currentframe())))\n",
    "parent_dir = os.path.dirname(current_dir)\n",
    "sys.path.insert(0, parent_dir) \n",
    "from dicom2bids import *\n",
    "print(\"[INFO] Imports done\")"
   ]
  },
  {
   "cell_type": "markdown",
   "id": "interim-pressure",
   "metadata": {},
   "source": [
    "## 2. Set paths"
   ]
  },
  {
   "cell_type": "code",
   "execution_count": 8,
   "id": "instructional-noise",
   "metadata": {},
   "outputs": [],
   "source": [
    "# Output BIDS directory. Should previously be created.\n",
    "bids_dir = \"C:/Users/maxen/OneDrive/Bureau/UCLouvain/Q14/WSBIM2243/project/WSBIM2243/database\"\n",
    "# Path to dcm2niix.exe converter -- Only for windows(Comment for unix/macOS users) \n",
    "dicom2niix_path = \"dicom2niix\" \n",
    "dicom2niix_path = \"C:/Users/maxen/OneDrive/Bureau/UCLouvain/Q14/WSBIM2243/project/dcm2niix.exe\" # Uncomment for Windows"
   ]
  },
  {
   "cell_type": "markdown",
   "id": "demanding-accreditation",
   "metadata": {},
   "source": [
    "## 3. Automatically import a DICOM directory into a BIDS format"
   ]
  },
  {
   "cell_type": "code",
   "execution_count": 12,
   "id": "narrative-michigan",
   "metadata": {},
   "outputs": [
    {
     "name": "stdout",
     "output_type": "stream",
     "text": [
      "SUBDIR: D:\\IRM R4\\BEN-ABOUD-09-MAR-2021\\export\\home1\\sdc_image_pool\\images\\p837\\e979\\s20414\tDIRS: []\n",
      "SUBDIR: D:\\IRM R4\\BEN-ABOUD-09-MAR-2021\\export\\home1\\sdc_image_pool\\images\\p837\\e979\\s20415\tDIRS: []\n",
      "SUBDIR: D:\\IRM R4\\BEN-ABOUD-09-MAR-2021\\export\\home1\\sdc_image_pool\\images\\p837\\e979\\s20416\tDIRS: []\n",
      "SUBDIR: D:\\IRM R4\\BEN-ABOUD-09-MAR-2021\\export\\home1\\sdc_image_pool\\images\\p837\\e979\\s20417\tDIRS: []\n",
      "SUBDIR: D:\\IRM R4\\BEN-ABOUD-09-MAR-2021\\export\\home1\\sdc_image_pool\\images\\p837\\e979\\s20418\tDIRS: []\n",
      "SUBDIR: D:\\IRM R4\\BEN-ABOUD-09-MAR-2021\\export\\home1\\sdc_image_pool\\images\\p837\\e979\\s20419\tDIRS: []\n",
      "SUBDIR: D:\\IRM R4\\BEN-ABOUD-09-MAR-2021\\export\\home1\\sdc_image_pool\\images\\p837\\e979\\s20420\tDIRS: []\n",
      "SUBDIR: D:\\IRM R4\\BEN-ABOUD-09-MAR-2021\\export\\home1\\sdc_image_pool\\images\\p837\\e979\\s20421\tDIRS: []\n",
      "SUBDIR: D:\\IRM R4\\BEN-ABOUD-09-MAR-2021\\export\\home1\\sdc_image_pool\\images\\p837\\e979\\s20422\tDIRS: []\n",
      "SUBDIR: D:\\IRM R4\\BEN-ABOUD-09-MAR-2021\\export\\home1\\sdc_image_pool\\images\\p837\\e979\\s20423\tDIRS: []\n",
      "SUBDIR: D:\\IRM R4\\BEN-ABOUD-09-MAR-2021\\export\\home1\\sdc_image_pool\\images\\p837\\e979\\s20424\tDIRS: []\n",
      "SUBDIR: D:\\IRM R4\\BEN-ABOUD-09-MAR-2021\\export\\home1\\sdc_image_pool\\images\\p837\\e979\\s20425\tDIRS: []\n",
      "SUBDIR: D:\\IRM R4\\BEN-ABOUD-09-MAR-2021\\export\\home1\\sdc_image_pool\\images\\p837\\e979\\s20426\tDIRS: []\n",
      "SUBDIR: D:\\IRM R4\\BEN-ABOUD-09-MAR-2021\\export\\home1\\sdc_image_pool\\images\\p837\\e979\\s20427\tDIRS: []\n",
      "SUBDIR: D:\\IRM R4\\BEN-ABOUD-09-MAR-2021\\export\\home1\\sdc_image_pool\\images\\p837\\e979\\s20428\tDIRS: []\n",
      "SUBDIR: D:\\IRM R4\\BEN-ABOUD-09-MAR-2021\\export\\home1\\sdc_image_pool\\images\\p837\\e979\\s20429\tDIRS: []\n",
      "SUBDIR: D:\\IRM R4\\BEN-ABOUD-09-MAR-2021\\export\\home1\\sdc_image_pool\\images\\p837\\e979\\s20430\tDIRS: []\n",
      "SUBDIR: D:\\IRM R4\\BEN-ABOUD-09-MAR-2021\\export\\home1\\sdc_image_pool\\images\\p837\\e979\\s20431\tDIRS: []\n",
      "[INFO] Converted all dicom files to compressed nifti\n",
      "['MPRAGE']\n",
      "SERIES: Sag T1 MPRAGE 1x1x1\n",
      "   Filenames: ['_s20415_Sag_T1_MPRAGE_1x1x1_20210309151530_3_']\n",
      "   RENAME: ['MPRAGE']\n",
      "\n",
      "\n",
      "['DWI']\n",
      "SERIES: Opt_DTI_4B_64_32 HB3\n",
      "   Filenames: []\n",
      "   RENAME: ['DWI']\n",
      "\n",
      "\n",
      "['DWI']\n",
      "SERIES: Opt_DTI_4B_64_32 HB3\n",
      "   Filenames: []\n",
      "   RENAME: ['DWI']\n",
      "\n",
      "\n",
      "['DWI']\n",
      "SERIES: Opt_DTI_4B_64_32 HB3\n",
      "   Filenames: ['_s20418_Opt_DTI_4B_64_32_HB3_20210309151530_6_']\n",
      "   RENAME: ['DWI']\n",
      "\n",
      "\n",
      "['acq-mag_T2star']\n",
      "SERIES: p:3D EPI\n",
      "   Filenames: ['_s20419_p_3D_EPI_20210309151530_200_']\n",
      "   RENAME: ['acq-mag_T2star']\n",
      "\n",
      "\n",
      "['acq-phase_T2star']\n",
      "SERIES: SWIphase:p:3D EPI\n",
      "   Filenames: ['_s20420_SWIphase_p_3D_EPI_20210309151530_201_']\n",
      "   RENAME: ['acq-phase_T2star']\n",
      "\n",
      "\n",
      "['inv-1_part-mag_MP2RAGE', 'inv-2_part-mag_MP2RAGE']\n",
      "SERIES: MP2RAGE PROMO_PHASE3\n",
      "   Filenames: ['_s20421_MP2RAGE_PROMO_PHASE3_20210309151530_7__e1', '_s20421_MP2RAGE_PROMO_PHASE3_20210309151530_7__e2']\n",
      "   RENAME: []\n",
      "\n",
      "\n",
      "['DIR']\n",
      "SERIES: 3D Sag T2 DIR Cube (WM Null) HyperSense\n",
      "   Filenames: ['_s20423_3D_Sag_T2_DIR_Cube_(WM_Null)_HyperSense_20210309151530_8_']\n",
      "   RENAME: ['DIR']\n",
      "\n",
      "\n",
      "['UNIT1']\n",
      "SERIES: NOT DIAGNOSTIC: MP2RAGE\n",
      "   Filenames: ['_s20427_NOT_DIAGNOSTIC__MP2RAGE_20210309151530_700_']\n",
      "   RENAME: ['UNIT1']\n",
      "\n",
      "\n",
      "['T1map']\n",
      "SERIES: NOT DIAGNOSTIC: T1map\n",
      "   Filenames: ['_s20428_NOT_DIAGNOSTIC__T1map_20210309151530_702_']\n",
      "   RENAME: ['T1map']\n",
      "\n",
      "\n",
      "['FLAIR']\n",
      "SERIES: 3D Sag T2 FLAIR Cube\n",
      "   Filenames: ['_s20430_3D_Sag_T2_FLAIR_Cube_20210309151530_9_']\n",
      "   RENAME: ['FLAIR']\n",
      "\n",
      "\n",
      "[INFO] Done\n"
     ]
    }
   ],
   "source": [
    "# Path to dicom directory\n",
    "directory = \"D:\\IRM R4\\BEN-ABOUD-09-MAR-2021\"\n",
    "\n",
    "# Convert all DICOMs\n",
    "dicom_series = convert_all_dicoms(directory, dicom2niix_path)\n",
    "\n",
    "# Create directories in the BIDS file structure by giving an incremental id\n",
    "pat_id, session = make_directories(bids_dir,pat_id=None,session=None)\n",
    "# To specify the patient id:\n",
    "# pat_id, session = make_directories(bids_dir,pat_id='ID_TO_SPECIFY',session=None)\n",
    "# To specify the patient id and session:\n",
    "# pat_id, session = make_directories(bids_dir,pat_id='ID_TO_SPECIFY',session='SESSION_TO_SPECIFY')\n",
    "\n",
    "# Rename and move all (interesting) converted files into the bids directory\n",
    "rename_and_move_nifti(dicom_series, bids_dir, pat_id, session)\n",
    "\n",
    "print(\"[INFO] Done\")"
   ]
  },
  {
   "cell_type": "markdown",
   "id": "abstract-boards",
   "metadata": {},
   "source": [
    "## 4.Optional functionalities"
   ]
  },
  {
   "cell_type": "markdown",
   "id": "exterior-pierce",
   "metadata": {},
   "source": [
    "### 4.1. Delete subject"
   ]
  },
  {
   "cell_type": "code",
   "execution_count": 5,
   "id": "solid-worry",
   "metadata": {},
   "outputs": [],
   "source": [
    "# Remove a patient from the database\n",
    "delete_subject(bids_dir, \"005\")"
   ]
  },
  {
   "cell_type": "markdown",
   "id": "roman-potter",
   "metadata": {},
   "source": [
    "### 4.2. Delete session"
   ]
  },
  {
   "cell_type": "code",
   "execution_count": null,
   "id": "higher-criticism",
   "metadata": {},
   "outputs": [],
   "source": [
    "# Remove a particular session from a particular patient\n",
    "delete_session(bids_dir, \"002\", \"02\")"
   ]
  }
 ],
 "metadata": {
  "kernelspec": {
   "display_name": "Python 3",
   "language": "python",
   "name": "python3"
  },
  "language_info": {
   "codemirror_mode": {
    "name": "ipython",
    "version": 3
   },
   "file_extension": ".py",
   "mimetype": "text/x-python",
   "name": "python",
   "nbconvert_exporter": "python",
   "pygments_lexer": "ipython3",
   "version": "3.7.9"
  }
 },
 "nbformat": 4,
 "nbformat_minor": 5
}
