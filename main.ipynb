{
 "cells": [
  {
   "cell_type": "markdown",
   "id": "08b974ce",
   "metadata": {},
   "source": [
    "# DICOM to BIDS converter"
   ]
  },
  {
   "cell_type": "markdown",
   "id": "1dd30355",
   "metadata": {},
   "source": [
    "Welcome to this DICOM to BIDS converter!\n",
    "\n",
    "This converter only handles the following MRI sequences:\n",
    "    - MPRAGE\n",
    "    - FLAIR\n",
    "    - EPI\n",
    "    - Phase\n",
    "    - Diffusion weighted imaging\n",
    "\n",
    "The converter should be used on dicom files coming directly out of the MR machine.\n",
    "\n",
    "#### /!\\ Important /!\\ : Run steps 1 and 2 before running anything else\n",
    "\n",
    "Authors: Maxence Wynen -- maxencewynen@gmail.com\n",
    "        Colin Vanden Bulcke -- colin.vandenbulcke@uclouvain.be"
   ]
  },
  {
   "cell_type": "markdown",
   "id": "a5fd1902",
   "metadata": {},
   "source": [
    "## 1. Import dependencies"
   ]
  },
  {
   "cell_type": "code",
   "execution_count": null,
   "id": "e40c0d08",
   "metadata": {},
   "outputs": [],
   "source": [
    "import os,sys,inspect\n",
    "current_dir = os.path.dirname(os.path.abspath(inspect.getfile(inspect.currentframe())))\n",
    "parent_dir = os.path.dirname(current_dir)\n",
    "sys.path.insert(0, parent_dir) \n",
    "from dicom2bids import *\n",
    "from change_orientation import *\n",
    "from reorient_phase_unwrapped import *\n",
    "from corr_header_for_registration import *\n",
    "print(\"[INFO] Imports done\")\n",
    "# Path to dcm2niix.exe converter -- Only for windows(Comment for unix/macOS users) \n",
    "dicom2niix_path = \"dcm2niix\" \n",
    "#dicom2niix_path = r\"C:\\Users\\Cristina\\Downloads\\dcm2niix.exe\" #\"C:/Users/maxen/OneDrive/Bureau/UCLouvain/Q14/WSBIM2243/project/dcm2niix.exe\" # Uncomment for Windows"
   ]
  },
  {
   "cell_type": "markdown",
   "id": "2dbb5e40",
   "metadata": {},
   "source": [
    "## 2. Make BIDSHandler object"
   ]
  },
  {
   "cell_type": "code",
   "execution_count": null,
   "id": "a42f0012",
   "metadata": {},
   "outputs": [],
   "source": [
    "# Create BIDSHandler object, root_dir is the path to the BIDS folder's root\n",
    "bidshandler = BIDSHandler(root_dir=r\"/media/maggi/MS-PRL/MS-PRL/MS-PRL_Brussels\",\n",
    "                          dicom2niix_path = dicom2niix_path)"
   ]
  },
  {
   "cell_type": "markdown",
   "id": "9c146be1",
   "metadata": {},
   "source": [
    "## 3. Automatically import a DICOM directory into BIDS format"
   ]
  },
  {
   "cell_type": "code",
   "execution_count": null,
   "id": "4805b6b4",
   "metadata": {},
   "outputs": [],
   "source": [
    "# Path to dicom directory\n",
    "DICOM_FOLDER = \"/media/maggi/MS-PRL/MS-PRL/MS-PRL_Brussels/DICOM/sub-059/sub-059_ses-01/GEVENOIS_3992098701\"\n",
    "PATIENT_ID = None\n",
    "SESSION = None\n",
    "\n",
    "pat_id, session, dicom_series = bidshandler.convert_dicoms_to_bids(dicomfolder = DICOM_FOLDER, \n",
    "                                                                   pat_id      = PATIENT_ID,\n",
    "                                                                   session     = SESSION, \n",
    "                                                                   return_dicom_series=True)\n",
    "\n",
    "print(\"[INFO] Done\")"
   ]
  },
  {
   "cell_type": "code",
   "execution_count": null,
   "id": "93d2de49",
   "metadata": {},
   "outputs": [],
   "source": [
    "dicom_series = bidshandler.convert_all_dicoms(DICOM_FOLDER)"
   ]
  },
  {
   "cell_type": "code",
   "execution_count": null,
   "id": "2a4e29ba",
   "metadata": {},
   "outputs": [],
   "source": [
    "bidshandler.delete_nii_json_in_dicomdir(dicom_series)"
   ]
  },
  {
   "cell_type": "markdown",
   "id": "fc0b90cf",
   "metadata": {},
   "source": [
    "## 4.Optional functionalities"
   ]
  },
  {
   "cell_type": "markdown",
   "id": "47057f30",
   "metadata": {},
   "source": [
    "### 4.1. Delete subject"
   ]
  },
  {
   "cell_type": "code",
   "execution_count": null,
   "id": "706c47f1",
   "metadata": {},
   "outputs": [],
   "source": [
    "# Remove a patient from the database\n",
    "bidshandler.delete_subject(\"2097\")"
   ]
  },
  {
   "cell_type": "markdown",
   "id": "701f4281",
   "metadata": {},
   "source": [
    "### 4.2. Delete session"
   ]
  },
  {
   "cell_type": "code",
   "execution_count": null,
   "id": "430828d6",
   "metadata": {
    "scrolled": true
   },
   "outputs": [],
   "source": [
    "# Remove a particular session from a particular patient\n",
    "bidshandler.delete_session(\"026\", \"03\")"
   ]
  },
  {
   "cell_type": "markdown",
   "id": "05c3a70f",
   "metadata": {},
   "source": [
    "### 4.3 Rename subject"
   ]
  },
  {
   "cell_type": "code",
   "execution_count": null,
   "id": "6d50d0e0",
   "metadata": {},
   "outputs": [],
   "source": [
    "# Rename a subject in the database\n",
    "bidshandler.rename_subject(old_id='1000',new_id='2000')"
   ]
  },
  {
   "cell_type": "markdown",
   "id": "9161eee6",
   "metadata": {},
   "source": [
    "## 5. Image processing tools"
   ]
  },
  {
   "cell_type": "markdown",
   "id": "9a33004e",
   "metadata": {},
   "source": [
    "### 5.1. Reorient an image"
   ]
  },
  {
   "cell_type": "code",
   "execution_count": null,
   "id": "484cdd0b",
   "metadata": {},
   "outputs": [],
   "source": [
    "EPI_magnitude = 'acq-mag_T2star'\n",
    "EPI_phase = 'acq-phase_T2star'\n",
    "phase_wrapped = 'phase_WRAPPED'\n",
    "T2 = 'T2'\n",
    "T1 = 'T1'\n",
    "T1_Gd = 'T1w_Gd'\n",
    "FLAIRstar = 'acq-star_FLAIR'\n",
    "QSM = 'QSM'\n",
    "\n",
    "reorient(subject = '059', session = '02', \n",
    "         sequence_name = EPI_magnitude + '_matlab', \n",
    "         axis = 'z',\n",
    "         DIR=bids_dir)"
   ]
  },
  {
   "cell_type": "code",
   "execution_count": null,
   "id": "4c89a075",
   "metadata": {},
   "outputs": [],
   "source": [
    "##### CHANGE AFFINE ######\n",
    "replace_affine_or_header(path_to_img = \"/media/maggi/MS-PRL/MS-PRL/MS-PRL_Brussels/sub-059/ses-01/anat/sub-059_ses-01_acq-phase_T2star_UNWRAPPED.nii.gz\", \n",
    "                         path_to_target = \"/media/maggi/MS-PRL/MS-PRL/MS-PRL_Brussels/sub-137/ses-01/anat/sub-137_ses-01_acq-mag_T2star.nii.gz\", affine=True, header=False)\n",
    "\n",
    "\n",
    "### 4.5. Reorient phase image after docker unwrapping"
   ]
  },
  {
   "cell_type": "code",
   "execution_count": null,
   "id": "96aff76a",
   "metadata": {},
   "outputs": [],
   "source": [
    "### REORIENT THE UNWRAPPED PHASE IMAGE AFTER DOCKER UNWRAPPING ###\n",
    "phase_filename = \"/media/maggi/MS-PRL/MS-PRL/MS-PRL_Brussels/sub-059/ses-01/anat/sub-059_ses-01_acq-phase_T2star_UNWRAPPED.nii.gz\"\n",
    "t2star_filename = \"/media/maggi/MS-PRL/MS-PRL/MS-PRL_Brussels/sub-059/ses-01/anat/sub-059_ses-01_acq-mag_T2star.nii.gz\"\n",
    "\n",
    "reorient_phase_unwrapped(phase_filename, t2star_filename)"
   ]
  },
  {
   "cell_type": "code",
   "execution_count": null,
   "id": "447ba1fb",
   "metadata": {},
   "outputs": [],
   "source": [
    "### REORIENT THE UNWRAPPED PHASE IMAGE AFTER DOCKER UNWRAPPING (second possibility) ###\n",
    "phase_filename = \"/media/maggi/MS-PRL/MS-PRL/MS-PRL_Brussels/sub-026/ses-01/anat/sub-026_ses-01_phase.nii.gz\"\n",
    "\n",
    "reorient_phase_unwrapped_2(phase_filename)"
   ]
  },
  {
   "cell_type": "markdown",
   "id": "4ac3c74a",
   "metadata": {},
   "source": [
    "### 5.2. Correct header for registration"
   ]
  },
  {
   "cell_type": "code",
   "execution_count": null,
   "id": "fb0fb1e2",
   "metadata": {},
   "outputs": [],
   "source": [
    "### 4.6. Correct header for registration ###\n",
    "filename = \"/media/maggi/MS-PRL/MS-PRL/MS-PRL_Brussels/sub-058/ses-02/anat/sub-058_ses-02_acq-phase_T2star.nii.gz\"\n",
    "corr_header_for_registration(filename)"
   ]
  },
  {
   "cell_type": "markdown",
   "id": "cd165198",
   "metadata": {},
   "source": [
    "### 5.3. Separate 4D image EPI"
   ]
  },
  {
   "cell_type": "code",
   "execution_count": null,
   "id": "3de4a379",
   "metadata": {},
   "outputs": [],
   "source": [
    "separate_epi(subject='126', session='01', \n",
    "             DIR=bids_dir)"
   ]
  },
  {
   "cell_type": "code",
   "execution_count": null,
   "id": "cb247fc4",
   "metadata": {},
   "outputs": [],
   "source": []
  }
 ],
 "metadata": {
  "kernelspec": {
   "display_name": "Python 3 (ipykernel)",
   "language": "python",
   "name": "python3"
  },
  "language_info": {
   "codemirror_mode": {
    "name": "ipython",
    "version": 3
   },
   "file_extension": ".py",
   "mimetype": "text/x-python",
   "name": "python",
   "nbconvert_exporter": "python",
   "pygments_lexer": "ipython3",
   "version": "3.8.8"
  }
 },
 "nbformat": 4,
 "nbformat_minor": 5
}
